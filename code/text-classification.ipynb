{
 "cells": [
  {
   "cell_type": "code",
   "execution_count": 1,
   "metadata": {},
   "outputs": [],
   "source": [
    "import numpy as np\n",
    "import pandas as pd\n",
    "from sklearn.feature_extraction.text import CountVectorizer\n",
    "from sklearn.model_selection import train_test_split\n",
    "from sklearn.linear_model import LogisticRegression"
   ]
  },
  {
   "cell_type": "code",
   "execution_count": 2,
   "metadata": {},
   "outputs": [],
   "source": [
    "filepath_dict = {'yelp': '../data/yelp_labelled.txt',\n",
    "                         'amazon': '../data/amazon_cells_labelled.txt',\n",
    "                         'imdb': '../data/imdb_labelled.txt'}"
   ]
  },
  {
   "cell_type": "code",
   "execution_count": 3,
   "metadata": {},
   "outputs": [],
   "source": [
    "df_list = []\n",
    "for source, filepath in filepath_dict.items():\n",
    "    df = pd.read_csv(filepath, names=['sentence', 'label'], sep='\\t')\n",
    "    df['source'] = source\n",
    "    df_list.append(df)\n",
    "    \n",
    "df=pd.concat(df_list)"
   ]
  },
  {
   "cell_type": "code",
   "execution_count": 4,
   "metadata": {},
   "outputs": [
    {
     "data": {
      "text/html": [
       "<div>\n",
       "<style scoped>\n",
       "    .dataframe tbody tr th:only-of-type {\n",
       "        vertical-align: middle;\n",
       "    }\n",
       "\n",
       "    .dataframe tbody tr th {\n",
       "        vertical-align: top;\n",
       "    }\n",
       "\n",
       "    .dataframe thead th {\n",
       "        text-align: right;\n",
       "    }\n",
       "</style>\n",
       "<table border=\"1\" class=\"dataframe\">\n",
       "  <thead>\n",
       "    <tr style=\"text-align: right;\">\n",
       "      <th></th>\n",
       "      <th>sentence</th>\n",
       "      <th>label</th>\n",
       "      <th>source</th>\n",
       "    </tr>\n",
       "  </thead>\n",
       "  <tbody>\n",
       "    <tr>\n",
       "      <th>0</th>\n",
       "      <td>Wow... Loved this place.</td>\n",
       "      <td>1</td>\n",
       "      <td>yelp</td>\n",
       "    </tr>\n",
       "    <tr>\n",
       "      <th>1</th>\n",
       "      <td>Crust is not good.</td>\n",
       "      <td>0</td>\n",
       "      <td>yelp</td>\n",
       "    </tr>\n",
       "    <tr>\n",
       "      <th>2</th>\n",
       "      <td>Not tasty and the texture was just nasty.</td>\n",
       "      <td>0</td>\n",
       "      <td>yelp</td>\n",
       "    </tr>\n",
       "    <tr>\n",
       "      <th>3</th>\n",
       "      <td>Stopped by during the late May bank holiday of...</td>\n",
       "      <td>1</td>\n",
       "      <td>yelp</td>\n",
       "    </tr>\n",
       "    <tr>\n",
       "      <th>4</th>\n",
       "      <td>The selection on the menu was great and so wer...</td>\n",
       "      <td>1</td>\n",
       "      <td>yelp</td>\n",
       "    </tr>\n",
       "    <tr>\n",
       "      <th>...</th>\n",
       "      <td>...</td>\n",
       "      <td>...</td>\n",
       "      <td>...</td>\n",
       "    </tr>\n",
       "    <tr>\n",
       "      <th>743</th>\n",
       "      <td>I just got bored watching Jessice Lange take h...</td>\n",
       "      <td>0</td>\n",
       "      <td>imdb</td>\n",
       "    </tr>\n",
       "    <tr>\n",
       "      <th>744</th>\n",
       "      <td>Unfortunately, any virtue in this film's produ...</td>\n",
       "      <td>0</td>\n",
       "      <td>imdb</td>\n",
       "    </tr>\n",
       "    <tr>\n",
       "      <th>745</th>\n",
       "      <td>In a word, it is embarrassing.</td>\n",
       "      <td>0</td>\n",
       "      <td>imdb</td>\n",
       "    </tr>\n",
       "    <tr>\n",
       "      <th>746</th>\n",
       "      <td>Exceptionally bad!</td>\n",
       "      <td>0</td>\n",
       "      <td>imdb</td>\n",
       "    </tr>\n",
       "    <tr>\n",
       "      <th>747</th>\n",
       "      <td>All in all its an insult to one's intelligence...</td>\n",
       "      <td>0</td>\n",
       "      <td>imdb</td>\n",
       "    </tr>\n",
       "  </tbody>\n",
       "</table>\n",
       "<p>2748 rows × 3 columns</p>\n",
       "</div>"
      ],
      "text/plain": [
       "                                              sentence  label source\n",
       "0                             Wow... Loved this place.      1   yelp\n",
       "1                                   Crust is not good.      0   yelp\n",
       "2            Not tasty and the texture was just nasty.      0   yelp\n",
       "3    Stopped by during the late May bank holiday of...      1   yelp\n",
       "4    The selection on the menu was great and so wer...      1   yelp\n",
       "..                                                 ...    ...    ...\n",
       "743  I just got bored watching Jessice Lange take h...      0   imdb\n",
       "744  Unfortunately, any virtue in this film's produ...      0   imdb\n",
       "745                   In a word, it is embarrassing.        0   imdb\n",
       "746                               Exceptionally bad!        0   imdb\n",
       "747  All in all its an insult to one's intelligence...      0   imdb\n",
       "\n",
       "[2748 rows x 3 columns]"
      ]
     },
     "execution_count": 4,
     "metadata": {},
     "output_type": "execute_result"
    }
   ],
   "source": [
    "df"
   ]
  },
  {
   "cell_type": "markdown",
   "metadata": {},
   "source": [
    "### ex the text features"
   ]
  },
  {
   "cell_type": "code",
   "execution_count": 5,
   "metadata": {},
   "outputs": [],
   "source": [
    "#eg:\n",
    "sentences = ['Join likes ice cream', 'John hates chocolate']"
   ]
  },
  {
   "cell_type": "code",
   "execution_count": 6,
   "metadata": {},
   "outputs": [
    {
     "name": "stdout",
     "output_type": "stream",
     "text": [
      "{'join': 5, 'likes': 6, 'ice': 3, 'cream': 1, 'john': 4, 'hates': 2, 'chocolate': 0}\n",
      "[[0 1 0 1 0 1 1]\n",
      " [1 0 1 0 1 0 0]]\n"
     ]
    }
   ],
   "source": [
    "vectorizer = CountVectorizer(min_df=0, lowercase=True)\n",
    "vectorizer.fit(sentences)\n",
    "print(vectorizer.vocabulary_)\n",
    "print(vectorizer.transform(sentences).toarray())"
   ]
  },
  {
   "cell_type": "code",
   "execution_count": 7,
   "metadata": {},
   "outputs": [],
   "source": [
    "#  split the dataset \n",
    "df_yelp = df[df['source'] == 'yelp']\n",
    "sentences = df_yelp['sentence'].values\n",
    "y = df_yelp['label'].values\n",
    "sentences_train, sentences_test, y_train, y_test = train_test_split(sentences, y, test_size=0.25, random_state=1000)\n",
    "# print(sentences_train)\n",
    "# print(sentences_test)\n",
    "# print(y_train)\n",
    "# print(y_test)"
   ]
  },
  {
   "cell_type": "code",
   "execution_count": 8,
   "metadata": {},
   "outputs": [],
   "source": [
    "vectorizer = CountVectorizer()\n",
    "vectorizer.fit(sentences_train)\n",
    "X_train = vectorizer.transform(sentences_train)\n",
    "X_test = vectorizer.transform(sentences_test)"
   ]
  },
  {
   "cell_type": "code",
   "execution_count": 9,
   "metadata": {},
   "outputs": [
    {
     "data": {
      "text/plain": [
       "(750, 1714)"
      ]
     },
     "execution_count": 9,
     "metadata": {},
     "output_type": "execute_result"
    }
   ],
   "source": [
    "X_train.shape"
   ]
  },
  {
   "cell_type": "code",
   "execution_count": 10,
   "metadata": {},
   "outputs": [
    {
     "data": {
      "text/plain": [
       "(250, 1714)"
      ]
     },
     "execution_count": 10,
     "metadata": {},
     "output_type": "execute_result"
    }
   ],
   "source": [
    "X_test.shape"
   ]
  },
  {
   "cell_type": "code",
   "execution_count": 11,
   "metadata": {},
   "outputs": [
    {
     "data": {
      "text/plain": [
       "array([[0, 0, 0, ..., 0, 0, 0]], dtype=int64)"
      ]
     },
     "execution_count": 11,
     "metadata": {},
     "output_type": "execute_result"
    }
   ],
   "source": [
    "X_train[0].toarray()"
   ]
  },
  {
   "cell_type": "markdown",
   "metadata": {},
   "source": [
    "First use some logisticRegression for a try"
   ]
  },
  {
   "cell_type": "code",
   "execution_count": 12,
   "metadata": {},
   "outputs": [
    {
     "data": {
      "text/plain": [
       "0.796"
      ]
     },
     "execution_count": 12,
     "metadata": {},
     "output_type": "execute_result"
    }
   ],
   "source": [
    "classifier = LogisticRegression()\n",
    "classifier.fit(X_train, y_train)\n",
    "score = classifier.score(X_test, y_test)\n",
    "score"
   ]
  },
  {
   "cell_type": "markdown",
   "metadata": {},
   "source": [
    "Compare three different datasets"
   ]
  },
  {
   "cell_type": "code",
   "execution_count": 13,
   "metadata": {},
   "outputs": [],
   "source": [
    "class Dataprocess():\n",
    "    def __init__(self, data, source):\n",
    "        self.df = data[data['source'] == source]\n",
    "        self.sentences = self.df['sentence'].values\n",
    "        self.y = self.df['label'].values\n",
    "        \n",
    "    def train_test_data_split(self):\n",
    "        sentences_train, sentences_test, y_train, y_test = train_test_split(self.sentences, \n",
    "                                                                                                                 self.y, \n",
    "                                                                                                                 test_size=0.25, \n",
    "                                                                                                                 random_state=1000)\n",
    "        return sentences_train, sentences_test, y_train, y_test      "
   ]
  },
  {
   "cell_type": "code",
   "execution_count": 14,
   "metadata": {},
   "outputs": [],
   "source": [
    "class CountTheVectorizer():\n",
    "    def __init__(self):\n",
    "        self.vectorizer = CountVectorizer()\n",
    "        \n",
    "    def fit_ve(self, sentences_train, sentences_test):\n",
    "        self.vectorizer.fit(sentences_train)\n",
    "        X_train = self.vectorizer.transform(sentences_train)\n",
    "        X_test = self.vectorizer.transform(sentences_test)\n",
    "    \n",
    "        return X_train, X_test"
   ]
  },
  {
   "cell_type": "code",
   "execution_count": 15,
   "metadata": {},
   "outputs": [],
   "source": [
    "class Classfier():\n",
    "    def __init__(self):\n",
    "        self.classfier = LogisticRegression()\n",
    "    \n",
    "    def fit_model(self, X_train, y_train, X_test, y_test):\n",
    "        self.classfier.fit(X_train, y_train)\n",
    "        score = self.classfier.score(X_test, y_test)\n",
    "        \n",
    "        return score"
   ]
  },
  {
   "cell_type": "code",
   "execution_count": 16,
   "metadata": {},
   "outputs": [
    {
     "name": "stdout",
     "output_type": "stream",
     "text": [
      "Accuracy for yelp data: 0.796\n",
      "Accuracy for amazon data: 0.796\n",
      "Accuracy for imdb data: 0.7486631016042781\n"
     ]
    }
   ],
   "source": [
    "def main():\n",
    "    for source in df['source'].unique():\n",
    "        data = Dataprocess(df, source)\n",
    "        \n",
    "        sentences_train, sentences_test, y_train, y_test =  data.train_test_data_split()\n",
    "        \n",
    "        vectorizer = CountTheVectorizer()\n",
    "        X_train, X_test = vectorizer.fit_ve(sentences_train, sentences_test)\n",
    "        \n",
    "        classfier = Classfier()\n",
    "        score = classfier.fit_model(X_train, y_train, X_test, y_test)\n",
    "        print('Accuracy for {} data: {}'.format(source, score))\n",
    "        \n",
    "        \n",
    "if __name__ == '__main__':\n",
    "    main()"
   ]
  },
  {
   "cell_type": "markdown",
   "metadata": {},
   "source": [
    "**Nerul network model**"
   ]
  },
  {
   "cell_type": "code",
   "execution_count": 17,
   "metadata": {},
   "outputs": [
    {
     "data": {
      "text/html": [
       "<div>\n",
       "<style scoped>\n",
       "    .dataframe tbody tr th:only-of-type {\n",
       "        vertical-align: middle;\n",
       "    }\n",
       "\n",
       "    .dataframe tbody tr th {\n",
       "        vertical-align: top;\n",
       "    }\n",
       "\n",
       "    .dataframe thead th {\n",
       "        text-align: right;\n",
       "    }\n",
       "</style>\n",
       "<table border=\"1\" class=\"dataframe\">\n",
       "  <thead>\n",
       "    <tr style=\"text-align: right;\">\n",
       "      <th></th>\n",
       "      <th>sentence</th>\n",
       "      <th>label</th>\n",
       "      <th>source</th>\n",
       "    </tr>\n",
       "  </thead>\n",
       "  <tbody>\n",
       "    <tr>\n",
       "      <th>0</th>\n",
       "      <td>Wow... Loved this place.</td>\n",
       "      <td>1</td>\n",
       "      <td>yelp</td>\n",
       "    </tr>\n",
       "    <tr>\n",
       "      <th>1</th>\n",
       "      <td>Crust is not good.</td>\n",
       "      <td>0</td>\n",
       "      <td>yelp</td>\n",
       "    </tr>\n",
       "    <tr>\n",
       "      <th>2</th>\n",
       "      <td>Not tasty and the texture was just nasty.</td>\n",
       "      <td>0</td>\n",
       "      <td>yelp</td>\n",
       "    </tr>\n",
       "    <tr>\n",
       "      <th>3</th>\n",
       "      <td>Stopped by during the late May bank holiday of...</td>\n",
       "      <td>1</td>\n",
       "      <td>yelp</td>\n",
       "    </tr>\n",
       "    <tr>\n",
       "      <th>4</th>\n",
       "      <td>The selection on the menu was great and so wer...</td>\n",
       "      <td>1</td>\n",
       "      <td>yelp</td>\n",
       "    </tr>\n",
       "    <tr>\n",
       "      <th>...</th>\n",
       "      <td>...</td>\n",
       "      <td>...</td>\n",
       "      <td>...</td>\n",
       "    </tr>\n",
       "    <tr>\n",
       "      <th>743</th>\n",
       "      <td>I just got bored watching Jessice Lange take h...</td>\n",
       "      <td>0</td>\n",
       "      <td>imdb</td>\n",
       "    </tr>\n",
       "    <tr>\n",
       "      <th>744</th>\n",
       "      <td>Unfortunately, any virtue in this film's produ...</td>\n",
       "      <td>0</td>\n",
       "      <td>imdb</td>\n",
       "    </tr>\n",
       "    <tr>\n",
       "      <th>745</th>\n",
       "      <td>In a word, it is embarrassing.</td>\n",
       "      <td>0</td>\n",
       "      <td>imdb</td>\n",
       "    </tr>\n",
       "    <tr>\n",
       "      <th>746</th>\n",
       "      <td>Exceptionally bad!</td>\n",
       "      <td>0</td>\n",
       "      <td>imdb</td>\n",
       "    </tr>\n",
       "    <tr>\n",
       "      <th>747</th>\n",
       "      <td>All in all its an insult to one's intelligence...</td>\n",
       "      <td>0</td>\n",
       "      <td>imdb</td>\n",
       "    </tr>\n",
       "  </tbody>\n",
       "</table>\n",
       "<p>2748 rows × 3 columns</p>\n",
       "</div>"
      ],
      "text/plain": [
       "                                              sentence  label source\n",
       "0                             Wow... Loved this place.      1   yelp\n",
       "1                                   Crust is not good.      0   yelp\n",
       "2            Not tasty and the texture was just nasty.      0   yelp\n",
       "3    Stopped by during the late May bank holiday of...      1   yelp\n",
       "4    The selection on the menu was great and so wer...      1   yelp\n",
       "..                                                 ...    ...    ...\n",
       "743  I just got bored watching Jessice Lange take h...      0   imdb\n",
       "744  Unfortunately, any virtue in this film's produ...      0   imdb\n",
       "745                   In a word, it is embarrassing.        0   imdb\n",
       "746                               Exceptionally bad!        0   imdb\n",
       "747  All in all its an insult to one's intelligence...      0   imdb\n",
       "\n",
       "[2748 rows x 3 columns]"
      ]
     },
     "execution_count": 17,
     "metadata": {},
     "output_type": "execute_result"
    }
   ],
   "source": [
    "df"
   ]
  },
  {
   "cell_type": "code",
   "execution_count": 18,
   "metadata": {},
   "outputs": [],
   "source": [
    "# Simple NN \n",
    "import tensorflow as tf \n",
    "from tensorflow import keras \n",
    "from tensorflow.keras.models import Sequential\n",
    "from tensorflow.keras import layers"
   ]
  },
  {
   "cell_type": "code",
   "execution_count": 19,
   "metadata": {},
   "outputs": [],
   "source": [
    "class DataLoader():\n",
    "    def __init__(self, df):\n",
    "        self.sentences = df.sentence.values\n",
    "        self.label = df.label.values\n",
    "        \n",
    "    def train_test_data_split(self):\n",
    "        sentences_train, sentences_test, y_train, y_test = train_test_split(self.sentences, self.label, test_size=0.25, random_state=1000)\n",
    "        return sentences_train, sentences_test, y_train, y_test  "
   ]
  },
  {
   "cell_type": "code",
   "execution_count": 20,
   "metadata": {},
   "outputs": [],
   "source": [
    "data = DataLoader(df)\n",
    "sentences_train, sentences_test, y_train, y_test = data.train_test_data_split()"
   ]
  },
  {
   "cell_type": "code",
   "execution_count": 21,
   "metadata": {},
   "outputs": [],
   "source": [
    "vectorizer = CountTheVectorizer()\n",
    "X_train, X_test = vectorizer.fit_ve(sentences_train, sentences_test)"
   ]
  },
  {
   "cell_type": "code",
   "execution_count": 22,
   "metadata": {},
   "outputs": [],
   "source": [
    "# convert it into np.array\n",
    "X_train = X_train.toarray()\n",
    "X_test = X_test.toarray()"
   ]
  },
  {
   "cell_type": "code",
   "execution_count": 23,
   "metadata": {},
   "outputs": [
    {
     "data": {
      "text/plain": [
       "4506"
      ]
     },
     "execution_count": 23,
     "metadata": {},
     "output_type": "execute_result"
    }
   ],
   "source": [
    "# number of features \n",
    "input_dim = X_train.shape[1]\n",
    "input_dim"
   ]
  },
  {
   "cell_type": "code",
   "execution_count": 24,
   "metadata": {},
   "outputs": [
    {
     "name": "stdout",
     "output_type": "stream",
     "text": [
      "Model: \"sequential\"\n",
      "_________________________________________________________________\n",
      "Layer (type)                 Output Shape              Param #   \n",
      "=================================================================\n",
      "dense (Dense)                (None, 64)                288448    \n",
      "_________________________________________________________________\n",
      "dense_1 (Dense)              (None, 32)                2080      \n",
      "_________________________________________________________________\n",
      "dense_2 (Dense)              (None, 1)                 33        \n",
      "=================================================================\n",
      "Total params: 290,561\n",
      "Trainable params: 290,561\n",
      "Non-trainable params: 0\n",
      "_________________________________________________________________\n"
     ]
    }
   ],
   "source": [
    "#build and compile\n",
    "model = Sequential()\n",
    "model.add(layers.Dense(64, input_dim=input_dim, activation='relu'))\n",
    "model.add(layers.Dense(32, activation='sigmoid'))\n",
    "model.add(layers.Dense(1, activation='sigmoid'))\n",
    "model.compile(loss='binary_crossentropy', optimizer='adam', metrics=['accuracy'])\n",
    "model.summary()"
   ]
  },
  {
   "cell_type": "code",
   "execution_count": 25,
   "metadata": {
    "scrolled": true
   },
   "outputs": [
    {
     "name": "stdout",
     "output_type": "stream",
     "text": [
      "Epoch 1/200\n",
      "21/21 [==============================] - 3s 49ms/step - loss: 0.8267 - accuracy: 0.4889 - val_loss: 0.7338 - val_accuracy: 0.4760\n",
      "Epoch 2/200\n",
      "21/21 [==============================] - 0s 7ms/step - loss: 0.6931 - accuracy: 0.5360 - val_loss: 0.6579 - val_accuracy: 0.6274\n",
      "Epoch 3/200\n",
      "21/21 [==============================] - 0s 7ms/step - loss: 0.6147 - accuracy: 0.7314 - val_loss: 0.6060 - val_accuracy: 0.7540\n",
      "Epoch 4/200\n",
      "21/21 [==============================] - 0s 7ms/step - loss: 0.5186 - accuracy: 0.8886 - val_loss: 0.5373 - val_accuracy: 0.8093\n",
      "Epoch 5/200\n",
      "21/21 [==============================] - 0s 7ms/step - loss: 0.3913 - accuracy: 0.9439 - val_loss: 0.4791 - val_accuracy: 0.8151\n",
      "Epoch 6/200\n",
      "21/21 [==============================] - 0s 7ms/step - loss: 0.2919 - accuracy: 0.9598 - val_loss: 0.4437 - val_accuracy: 0.8253\n",
      "Epoch 7/200\n",
      "21/21 [==============================] - 0s 7ms/step - loss: 0.2115 - accuracy: 0.9699 - val_loss: 0.4232 - val_accuracy: 0.8239\n",
      "Epoch 8/200\n",
      "21/21 [==============================] - 0s 8ms/step - loss: 0.1596 - accuracy: 0.9797 - val_loss: 0.4158 - val_accuracy: 0.8210\n",
      "Epoch 9/200\n",
      "21/21 [==============================] - 0s 7ms/step - loss: 0.1266 - accuracy: 0.9846 - val_loss: 0.4154 - val_accuracy: 0.8253\n",
      "Epoch 10/200\n",
      "21/21 [==============================] - 0s 7ms/step - loss: 0.0994 - accuracy: 0.9878 - val_loss: 0.4216 - val_accuracy: 0.8253\n",
      "Epoch 11/200\n",
      "21/21 [==============================] - 0s 7ms/step - loss: 0.0853 - accuracy: 0.9883 - val_loss: 0.4273 - val_accuracy: 0.8166\n",
      "Epoch 12/200\n",
      "21/21 [==============================] - 0s 7ms/step - loss: 0.0690 - accuracy: 0.9942 - val_loss: 0.4361 - val_accuracy: 0.8151\n",
      "Epoch 13/200\n",
      "21/21 [==============================] - 0s 8ms/step - loss: 0.0545 - accuracy: 0.9947 - val_loss: 0.4454 - val_accuracy: 0.8122\n",
      "Epoch 14/200\n",
      "21/21 [==============================] - 0s 7ms/step - loss: 0.0476 - accuracy: 0.9983 - val_loss: 0.4566 - val_accuracy: 0.8137\n",
      "Epoch 15/200\n",
      "21/21 [==============================] - 0s 7ms/step - loss: 0.0418 - accuracy: 0.9990 - val_loss: 0.4669 - val_accuracy: 0.8151\n",
      "Epoch 16/200\n",
      "21/21 [==============================] - 0s 8ms/step - loss: 0.0353 - accuracy: 0.9980 - val_loss: 0.4791 - val_accuracy: 0.8093\n",
      "Epoch 17/200\n",
      "21/21 [==============================] - 0s 7ms/step - loss: 0.0314 - accuracy: 0.9978 - val_loss: 0.4877 - val_accuracy: 0.8079\n",
      "Epoch 18/200\n",
      "21/21 [==============================] - 0s 7ms/step - loss: 0.0288 - accuracy: 0.9994 - val_loss: 0.5019 - val_accuracy: 0.8108\n",
      "Epoch 19/200\n",
      "21/21 [==============================] - 0s 7ms/step - loss: 0.0248 - accuracy: 0.9999 - val_loss: 0.5100 - val_accuracy: 0.8122\n",
      "Epoch 20/200\n",
      "21/21 [==============================] - 0s 8ms/step - loss: 0.0216 - accuracy: 1.0000 - val_loss: 0.5207 - val_accuracy: 0.8108\n",
      "Epoch 21/200\n",
      "21/21 [==============================] - 0s 7ms/step - loss: 0.0183 - accuracy: 1.0000 - val_loss: 0.5317 - val_accuracy: 0.8079\n",
      "Epoch 22/200\n",
      "21/21 [==============================] - 0s 7ms/step - loss: 0.0170 - accuracy: 1.0000 - val_loss: 0.5430 - val_accuracy: 0.8079\n",
      "Epoch 23/200\n",
      "21/21 [==============================] - 0s 7ms/step - loss: 0.0156 - accuracy: 1.0000 - val_loss: 0.5487 - val_accuracy: 0.8108\n",
      "Epoch 24/200\n",
      "21/21 [==============================] - 0s 7ms/step - loss: 0.0147 - accuracy: 1.0000 - val_loss: 0.5605 - val_accuracy: 0.8093\n",
      "Epoch 25/200\n",
      "21/21 [==============================] - 0s 8ms/step - loss: 0.0129 - accuracy: 1.0000 - val_loss: 0.5684 - val_accuracy: 0.8093\n",
      "Epoch 26/200\n",
      "21/21 [==============================] - 0s 8ms/step - loss: 0.0121 - accuracy: 1.0000 - val_loss: 0.5769 - val_accuracy: 0.8093\n",
      "Epoch 27/200\n",
      "21/21 [==============================] - 0s 7ms/step - loss: 0.0113 - accuracy: 1.0000 - val_loss: 0.5861 - val_accuracy: 0.8093\n",
      "Epoch 28/200\n",
      "21/21 [==============================] - 0s 7ms/step - loss: 0.0107 - accuracy: 1.0000 - val_loss: 0.5936 - val_accuracy: 0.8079\n",
      "Epoch 29/200\n",
      "21/21 [==============================] - 0s 7ms/step - loss: 0.0091 - accuracy: 1.0000 - val_loss: 0.6028 - val_accuracy: 0.8064\n",
      "Epoch 30/200\n",
      "21/21 [==============================] - 0s 7ms/step - loss: 0.0089 - accuracy: 1.0000 - val_loss: 0.6102 - val_accuracy: 0.8079\n",
      "Epoch 31/200\n",
      "21/21 [==============================] - 0s 8ms/step - loss: 0.0082 - accuracy: 1.0000 - val_loss: 0.6164 - val_accuracy: 0.8079\n",
      "Epoch 32/200\n",
      "21/21 [==============================] - 0s 8ms/step - loss: 0.0080 - accuracy: 1.0000 - val_loss: 0.6262 - val_accuracy: 0.8035\n",
      "Epoch 33/200\n",
      "21/21 [==============================] - 0s 8ms/step - loss: 0.0074 - accuracy: 1.0000 - val_loss: 0.6319 - val_accuracy: 0.8049\n",
      "Epoch 34/200\n",
      "21/21 [==============================] - 0s 7ms/step - loss: 0.0067 - accuracy: 1.0000 - val_loss: 0.6393 - val_accuracy: 0.8035\n",
      "Epoch 35/200\n",
      "21/21 [==============================] - 0s 7ms/step - loss: 0.0068 - accuracy: 1.0000 - val_loss: 0.6465 - val_accuracy: 0.8020\n",
      "Epoch 36/200\n",
      "21/21 [==============================] - 0s 7ms/step - loss: 0.0061 - accuracy: 1.0000 - val_loss: 0.6530 - val_accuracy: 0.8020\n",
      "Epoch 37/200\n",
      "21/21 [==============================] - 0s 8ms/step - loss: 0.0058 - accuracy: 1.0000 - val_loss: 0.6599 - val_accuracy: 0.8020\n",
      "Epoch 38/200\n",
      "21/21 [==============================] - 0s 7ms/step - loss: 0.0057 - accuracy: 1.0000 - val_loss: 0.6663 - val_accuracy: 0.8035\n",
      "Epoch 39/200\n",
      "21/21 [==============================] - 0s 9ms/step - loss: 0.0051 - accuracy: 1.0000 - val_loss: 0.6726 - val_accuracy: 0.8006\n",
      "Epoch 40/200\n",
      "21/21 [==============================] - 0s 7ms/step - loss: 0.0050 - accuracy: 1.0000 - val_loss: 0.6778 - val_accuracy: 0.8006\n",
      "Epoch 41/200\n",
      "21/21 [==============================] - 0s 7ms/step - loss: 0.0048 - accuracy: 1.0000 - val_loss: 0.6848 - val_accuracy: 0.8006\n",
      "Epoch 42/200\n",
      "21/21 [==============================] - 0s 7ms/step - loss: 0.0045 - accuracy: 1.0000 - val_loss: 0.6904 - val_accuracy: 0.8006\n",
      "Epoch 43/200\n",
      "21/21 [==============================] - 0s 7ms/step - loss: 0.0045 - accuracy: 1.0000 - val_loss: 0.6953 - val_accuracy: 0.8020\n",
      "Epoch 44/200\n",
      "21/21 [==============================] - 0s 7ms/step - loss: 0.0043 - accuracy: 1.0000 - val_loss: 0.7015 - val_accuracy: 0.7991\n",
      "Epoch 45/200\n",
      "21/21 [==============================] - 0s 8ms/step - loss: 0.0042 - accuracy: 1.0000 - val_loss: 0.7068 - val_accuracy: 0.7991\n",
      "Epoch 46/200\n",
      "21/21 [==============================] - 0s 7ms/step - loss: 0.0041 - accuracy: 1.0000 - val_loss: 0.7120 - val_accuracy: 0.7991\n",
      "Epoch 47/200\n",
      "21/21 [==============================] - 0s 12ms/step - loss: 0.0036 - accuracy: 1.0000 - val_loss: 0.7172 - val_accuracy: 0.8006\n",
      "Epoch 48/200\n",
      "21/21 [==============================] - 0s 7ms/step - loss: 0.0037 - accuracy: 1.0000 - val_loss: 0.7230 - val_accuracy: 0.7991\n",
      "Epoch 49/200\n",
      "21/21 [==============================] - 0s 7ms/step - loss: 0.0035 - accuracy: 1.0000 - val_loss: 0.7283 - val_accuracy: 0.7991\n",
      "Epoch 50/200\n",
      "21/21 [==============================] - 0s 7ms/step - loss: 0.0032 - accuracy: 1.0000 - val_loss: 0.7331 - val_accuracy: 0.8006\n",
      "Epoch 51/200\n",
      "21/21 [==============================] - 0s 9ms/step - loss: 0.0034 - accuracy: 1.0000 - val_loss: 0.7389 - val_accuracy: 0.8006\n",
      "Epoch 52/200\n",
      "21/21 [==============================] - 0s 7ms/step - loss: 0.0033 - accuracy: 1.0000 - val_loss: 0.7431 - val_accuracy: 0.8006\n",
      "Epoch 53/200\n",
      "21/21 [==============================] - 0s 7ms/step - loss: 0.0031 - accuracy: 1.0000 - val_loss: 0.7474 - val_accuracy: 0.8006\n",
      "Epoch 54/200\n",
      "21/21 [==============================] - 0s 7ms/step - loss: 0.0030 - accuracy: 1.0000 - val_loss: 0.7530 - val_accuracy: 0.8020\n",
      "Epoch 55/200\n",
      "21/21 [==============================] - 0s 8ms/step - loss: 0.0028 - accuracy: 1.0000 - val_loss: 0.7580 - val_accuracy: 0.8006\n",
      "Epoch 56/200\n",
      "21/21 [==============================] - 0s 7ms/step - loss: 0.0027 - accuracy: 1.0000 - val_loss: 0.7623 - val_accuracy: 0.8020\n",
      "Epoch 57/200\n",
      "21/21 [==============================] - 0s 7ms/step - loss: 0.0026 - accuracy: 1.0000 - val_loss: 0.7672 - val_accuracy: 0.8006\n",
      "Epoch 58/200\n",
      "21/21 [==============================] - 0s 9ms/step - loss: 0.0025 - accuracy: 1.0000 - val_loss: 0.7718 - val_accuracy: 0.8006\n"
     ]
    },
    {
     "name": "stdout",
     "output_type": "stream",
     "text": [
      "Epoch 59/200\n",
      "21/21 [==============================] - 0s 7ms/step - loss: 0.0024 - accuracy: 1.0000 - val_loss: 0.7762 - val_accuracy: 0.8006\n",
      "Epoch 60/200\n",
      "21/21 [==============================] - 0s 7ms/step - loss: 0.0023 - accuracy: 1.0000 - val_loss: 0.7803 - val_accuracy: 0.8020\n",
      "Epoch 61/200\n",
      "21/21 [==============================] - 0s 6ms/step - loss: 0.0023 - accuracy: 1.0000 - val_loss: 0.7846 - val_accuracy: 0.8020\n",
      "Epoch 62/200\n",
      "21/21 [==============================] - 0s 7ms/step - loss: 0.0022 - accuracy: 1.0000 - val_loss: 0.7897 - val_accuracy: 0.8035\n",
      "Epoch 63/200\n",
      "21/21 [==============================] - 0s 7ms/step - loss: 0.0022 - accuracy: 1.0000 - val_loss: 0.7942 - val_accuracy: 0.8020\n",
      "Epoch 64/200\n",
      "21/21 [==============================] - 0s 8ms/step - loss: 0.0020 - accuracy: 1.0000 - val_loss: 0.7985 - val_accuracy: 0.8020\n",
      "Epoch 65/200\n",
      "21/21 [==============================] - 0s 7ms/step - loss: 0.0020 - accuracy: 1.0000 - val_loss: 0.8025 - val_accuracy: 0.8020\n",
      "Epoch 66/200\n",
      "21/21 [==============================] - 0s 7ms/step - loss: 0.0019 - accuracy: 1.0000 - val_loss: 0.8061 - val_accuracy: 0.8020\n",
      "Epoch 67/200\n",
      "21/21 [==============================] - 0s 7ms/step - loss: 0.0019 - accuracy: 1.0000 - val_loss: 0.8104 - val_accuracy: 0.8035\n",
      "Epoch 68/200\n",
      "21/21 [==============================] - 0s 7ms/step - loss: 0.0018 - accuracy: 1.0000 - val_loss: 0.8138 - val_accuracy: 0.8020\n",
      "Epoch 69/200\n",
      "21/21 [==============================] - 0s 7ms/step - loss: 0.0018 - accuracy: 1.0000 - val_loss: 0.8184 - val_accuracy: 0.8020\n",
      "Epoch 70/200\n",
      "21/21 [==============================] - 0s 7ms/step - loss: 0.0019 - accuracy: 1.0000 - val_loss: 0.8224 - val_accuracy: 0.8020\n",
      "Epoch 71/200\n",
      "21/21 [==============================] - 0s 9ms/step - loss: 0.0017 - accuracy: 1.0000 - val_loss: 0.8267 - val_accuracy: 0.8020\n",
      "Epoch 72/200\n",
      "21/21 [==============================] - 0s 7ms/step - loss: 0.0017 - accuracy: 1.0000 - val_loss: 0.8305 - val_accuracy: 0.8020\n",
      "Epoch 73/200\n",
      "21/21 [==============================] - 0s 8ms/step - loss: 0.0016 - accuracy: 1.0000 - val_loss: 0.8344 - val_accuracy: 0.8020\n",
      "Epoch 74/200\n",
      "21/21 [==============================] - 0s 7ms/step - loss: 0.0016 - accuracy: 1.0000 - val_loss: 0.8381 - val_accuracy: 0.8049\n",
      "Epoch 75/200\n",
      "21/21 [==============================] - 0s 7ms/step - loss: 0.0015 - accuracy: 1.0000 - val_loss: 0.8423 - val_accuracy: 0.8020\n",
      "Epoch 76/200\n",
      "21/21 [==============================] - 0s 7ms/step - loss: 0.0015 - accuracy: 1.0000 - val_loss: 0.8458 - val_accuracy: 0.8020\n",
      "Epoch 77/200\n",
      "21/21 [==============================] - 0s 9ms/step - loss: 0.0015 - accuracy: 1.0000 - val_loss: 0.8495 - val_accuracy: 0.8035\n",
      "Epoch 78/200\n",
      "21/21 [==============================] - 0s 7ms/step - loss: 0.0014 - accuracy: 1.0000 - val_loss: 0.8535 - val_accuracy: 0.8035\n",
      "Epoch 79/200\n",
      "21/21 [==============================] - 0s 7ms/step - loss: 0.0015 - accuracy: 1.0000 - val_loss: 0.8571 - val_accuracy: 0.8049\n",
      "Epoch 80/200\n",
      "21/21 [==============================] - 0s 7ms/step - loss: 0.0014 - accuracy: 1.0000 - val_loss: 0.8602 - val_accuracy: 0.8035\n",
      "Epoch 81/200\n",
      "21/21 [==============================] - 0s 7ms/step - loss: 0.0013 - accuracy: 1.0000 - val_loss: 0.8645 - val_accuracy: 0.8049\n",
      "Epoch 82/200\n",
      "21/21 [==============================] - 0s 7ms/step - loss: 0.0013 - accuracy: 1.0000 - val_loss: 0.8675 - val_accuracy: 0.8035\n",
      "Epoch 83/200\n",
      "21/21 [==============================] - 0s 7ms/step - loss: 0.0013 - accuracy: 1.0000 - val_loss: 0.8712 - val_accuracy: 0.8035\n",
      "Epoch 84/200\n",
      "21/21 [==============================] - 0s 9ms/step - loss: 0.0012 - accuracy: 1.0000 - val_loss: 0.8747 - val_accuracy: 0.8049\n",
      "Epoch 85/200\n",
      "21/21 [==============================] - 0s 7ms/step - loss: 0.0012 - accuracy: 1.0000 - val_loss: 0.8785 - val_accuracy: 0.8049\n",
      "Epoch 86/200\n",
      "21/21 [==============================] - 0s 7ms/step - loss: 0.0012 - accuracy: 1.0000 - val_loss: 0.8821 - val_accuracy: 0.8049\n",
      "Epoch 87/200\n",
      "21/21 [==============================] - 0s 7ms/step - loss: 0.0012 - accuracy: 1.0000 - val_loss: 0.8848 - val_accuracy: 0.8049\n",
      "Epoch 88/200\n",
      "21/21 [==============================] - 0s 7ms/step - loss: 0.0011 - accuracy: 1.0000 - val_loss: 0.8885 - val_accuracy: 0.8049\n",
      "Epoch 89/200\n",
      "21/21 [==============================] - 0s 7ms/step - loss: 0.0011 - accuracy: 1.0000 - val_loss: 0.8921 - val_accuracy: 0.8064\n",
      "Epoch 90/200\n",
      "21/21 [==============================] - 0s 8ms/step - loss: 0.0011 - accuracy: 1.0000 - val_loss: 0.8957 - val_accuracy: 0.8064\n",
      "Epoch 91/200\n",
      "21/21 [==============================] - 0s 7ms/step - loss: 0.0011 - accuracy: 1.0000 - val_loss: 0.8990 - val_accuracy: 0.8064\n",
      "Epoch 92/200\n",
      "21/21 [==============================] - 0s 7ms/step - loss: 0.0010 - accuracy: 1.0000 - val_loss: 0.9026 - val_accuracy: 0.8049\n",
      "Epoch 93/200\n",
      "21/21 [==============================] - 0s 7ms/step - loss: 9.9907e-04 - accuracy: 1.0000 - val_loss: 0.9055 - val_accuracy: 0.8049\n",
      "Epoch 94/200\n",
      "21/21 [==============================] - 0s 8ms/step - loss: 9.9820e-04 - accuracy: 1.0000 - val_loss: 0.9090 - val_accuracy: 0.8064\n",
      "Epoch 95/200\n",
      "21/21 [==============================] - 0s 7ms/step - loss: 9.5763e-04 - accuracy: 1.0000 - val_loss: 0.9118 - val_accuracy: 0.8064\n",
      "Epoch 96/200\n",
      "21/21 [==============================] - 0s 7ms/step - loss: 9.6896e-04 - accuracy: 1.0000 - val_loss: 0.9150 - val_accuracy: 0.8064\n",
      "Epoch 97/200\n",
      "21/21 [==============================] - 0s 8ms/step - loss: 9.2823e-04 - accuracy: 1.0000 - val_loss: 0.9184 - val_accuracy: 0.8064\n",
      "Epoch 98/200\n",
      "21/21 [==============================] - 0s 7ms/step - loss: 9.2498e-04 - accuracy: 1.0000 - val_loss: 0.9213 - val_accuracy: 0.8064\n",
      "Epoch 99/200\n",
      "21/21 [==============================] - 0s 7ms/step - loss: 8.9416e-04 - accuracy: 1.0000 - val_loss: 0.9245 - val_accuracy: 0.8064\n",
      "Epoch 100/200\n",
      "21/21 [==============================] - 0s 7ms/step - loss: 8.8339e-04 - accuracy: 1.0000 - val_loss: 0.9275 - val_accuracy: 0.8064\n",
      "Epoch 101/200\n",
      "21/21 [==============================] - 0s 7ms/step - loss: 8.6559e-04 - accuracy: 1.0000 - val_loss: 0.9309 - val_accuracy: 0.8049\n",
      "Epoch 102/200\n",
      "21/21 [==============================] - 0s 7ms/step - loss: 8.4173e-04 - accuracy: 1.0000 - val_loss: 0.9338 - val_accuracy: 0.8049\n",
      "Epoch 103/200\n",
      "21/21 [==============================] - 0s 7ms/step - loss: 8.2755e-04 - accuracy: 1.0000 - val_loss: 0.9372 - val_accuracy: 0.8049\n",
      "Epoch 104/200\n",
      "21/21 [==============================] - 0s 8ms/step - loss: 7.9903e-04 - accuracy: 1.0000 - val_loss: 0.9400 - val_accuracy: 0.8049\n",
      "Epoch 105/200\n",
      "21/21 [==============================] - 0s 7ms/step - loss: 7.8689e-04 - accuracy: 1.0000 - val_loss: 0.9429 - val_accuracy: 0.8049\n",
      "Epoch 106/200\n",
      "21/21 [==============================] - 0s 7ms/step - loss: 7.5984e-04 - accuracy: 1.0000 - val_loss: 0.9460 - val_accuracy: 0.8049\n",
      "Epoch 107/200\n",
      "21/21 [==============================] - 0s 7ms/step - loss: 7.6076e-04 - accuracy: 1.0000 - val_loss: 0.9491 - val_accuracy: 0.8049\n",
      "Epoch 108/200\n",
      "21/21 [==============================] - 0s 7ms/step - loss: 7.3754e-04 - accuracy: 1.0000 - val_loss: 0.9521 - val_accuracy: 0.8049\n",
      "Epoch 109/200\n",
      "21/21 [==============================] - 0s 7ms/step - loss: 7.4325e-04 - accuracy: 1.0000 - val_loss: 0.9547 - val_accuracy: 0.8049\n",
      "Epoch 110/200\n",
      "21/21 [==============================] - 0s 7ms/step - loss: 7.3400e-04 - accuracy: 1.0000 - val_loss: 0.9581 - val_accuracy: 0.8049\n",
      "Epoch 111/200\n",
      "21/21 [==============================] - 0s 7ms/step - loss: 7.4629e-04 - accuracy: 1.0000 - val_loss: 0.9609 - val_accuracy: 0.8049\n",
      "Epoch 112/200\n",
      "21/21 [==============================] - 0s 7ms/step - loss: 7.0875e-04 - accuracy: 1.0000 - val_loss: 0.9639 - val_accuracy: 0.8049\n",
      "Epoch 113/200\n",
      "21/21 [==============================] - 0s 7ms/step - loss: 7.0520e-04 - accuracy: 1.0000 - val_loss: 0.9667 - val_accuracy: 0.8049\n",
      "Epoch 114/200\n",
      "21/21 [==============================] - 0s 7ms/step - loss: 6.7447e-04 - accuracy: 1.0000 - val_loss: 0.9693 - val_accuracy: 0.8049\n",
      "Epoch 115/200\n",
      "21/21 [==============================] - 0s 7ms/step - loss: 6.6361e-04 - accuracy: 1.0000 - val_loss: 0.9725 - val_accuracy: 0.8049\n"
     ]
    },
    {
     "name": "stdout",
     "output_type": "stream",
     "text": [
      "Epoch 116/200\n",
      "21/21 [==============================] - 0s 7ms/step - loss: 6.8249e-04 - accuracy: 1.0000 - val_loss: 0.9752 - val_accuracy: 0.8049\n",
      "Epoch 117/200\n",
      "21/21 [==============================] - 0s 8ms/step - loss: 6.4638e-04 - accuracy: 1.0000 - val_loss: 0.9781 - val_accuracy: 0.8049\n",
      "Epoch 118/200\n",
      "21/21 [==============================] - 0s 7ms/step - loss: 6.1950e-04 - accuracy: 1.0000 - val_loss: 0.9809 - val_accuracy: 0.8049\n",
      "Epoch 119/200\n",
      "21/21 [==============================] - 0s 7ms/step - loss: 6.2375e-04 - accuracy: 1.0000 - val_loss: 0.9837 - val_accuracy: 0.8049\n",
      "Epoch 120/200\n",
      "21/21 [==============================] - 0s 6ms/step - loss: 6.1386e-04 - accuracy: 1.0000 - val_loss: 0.9862 - val_accuracy: 0.8035\n",
      "Epoch 121/200\n",
      "21/21 [==============================] - 0s 7ms/step - loss: 6.0542e-04 - accuracy: 1.0000 - val_loss: 0.9888 - val_accuracy: 0.8035\n",
      "Epoch 122/200\n",
      "21/21 [==============================] - 0s 7ms/step - loss: 6.1089e-04 - accuracy: 1.0000 - val_loss: 0.9916 - val_accuracy: 0.8035\n",
      "Epoch 123/200\n",
      "21/21 [==============================] - 0s 7ms/step - loss: 5.6842e-04 - accuracy: 1.0000 - val_loss: 0.9944 - val_accuracy: 0.8035\n",
      "Epoch 124/200\n",
      "21/21 [==============================] - 0s 8ms/step - loss: 5.6990e-04 - accuracy: 1.0000 - val_loss: 0.9973 - val_accuracy: 0.8035\n",
      "Epoch 125/200\n",
      "21/21 [==============================] - 0s 7ms/step - loss: 5.5875e-04 - accuracy: 1.0000 - val_loss: 0.9999 - val_accuracy: 0.8035\n",
      "Epoch 126/200\n",
      "21/21 [==============================] - 0s 7ms/step - loss: 5.5672e-04 - accuracy: 1.0000 - val_loss: 1.0025 - val_accuracy: 0.8035\n",
      "Epoch 127/200\n",
      "21/21 [==============================] - 0s 7ms/step - loss: 5.3668e-04 - accuracy: 1.0000 - val_loss: 1.0053 - val_accuracy: 0.8035\n",
      "Epoch 128/200\n",
      "21/21 [==============================] - 0s 7ms/step - loss: 5.4808e-04 - accuracy: 1.0000 - val_loss: 1.0079 - val_accuracy: 0.8035\n",
      "Epoch 129/200\n",
      "21/21 [==============================] - 0s 7ms/step - loss: 5.4581e-04 - accuracy: 1.0000 - val_loss: 1.0109 - val_accuracy: 0.8035\n",
      "Epoch 130/200\n",
      "21/21 [==============================] - 0s 7ms/step - loss: 5.2126e-04 - accuracy: 1.0000 - val_loss: 1.0135 - val_accuracy: 0.8035\n",
      "Epoch 131/200\n",
      "21/21 [==============================] - 0s 7ms/step - loss: 5.0692e-04 - accuracy: 1.0000 - val_loss: 1.0161 - val_accuracy: 0.8035\n",
      "Epoch 132/200\n",
      "21/21 [==============================] - 0s 7ms/step - loss: 4.9160e-04 - accuracy: 1.0000 - val_loss: 1.0186 - val_accuracy: 0.8035\n",
      "Epoch 133/200\n",
      "21/21 [==============================] - 0s 7ms/step - loss: 5.0316e-04 - accuracy: 1.0000 - val_loss: 1.0212 - val_accuracy: 0.8035\n",
      "Epoch 134/200\n",
      "21/21 [==============================] - 0s 7ms/step - loss: 4.7540e-04 - accuracy: 1.0000 - val_loss: 1.0238 - val_accuracy: 0.8035\n",
      "Epoch 135/200\n",
      "21/21 [==============================] - 0s 7ms/step - loss: 4.7645e-04 - accuracy: 1.0000 - val_loss: 1.0263 - val_accuracy: 0.8035\n",
      "Epoch 136/200\n",
      "21/21 [==============================] - 0s 7ms/step - loss: 4.7301e-04 - accuracy: 1.0000 - val_loss: 1.0292 - val_accuracy: 0.8035\n",
      "Epoch 137/200\n",
      "21/21 [==============================] - 0s 7ms/step - loss: 4.6132e-04 - accuracy: 1.0000 - val_loss: 1.0314 - val_accuracy: 0.8035\n",
      "Epoch 138/200\n",
      "21/21 [==============================] - 0s 8ms/step - loss: 4.4876e-04 - accuracy: 1.0000 - val_loss: 1.0344 - val_accuracy: 0.8035\n",
      "Epoch 139/200\n",
      "21/21 [==============================] - 0s 7ms/step - loss: 4.4828e-04 - accuracy: 1.0000 - val_loss: 1.0363 - val_accuracy: 0.8035\n",
      "Epoch 140/200\n",
      "21/21 [==============================] - 0s 7ms/step - loss: 4.3703e-04 - accuracy: 1.0000 - val_loss: 1.0391 - val_accuracy: 0.8035\n",
      "Epoch 141/200\n",
      "21/21 [==============================] - 0s 7ms/step - loss: 4.4977e-04 - accuracy: 1.0000 - val_loss: 1.0417 - val_accuracy: 0.8035\n",
      "Epoch 142/200\n",
      "21/21 [==============================] - 0s 7ms/step - loss: 4.4036e-04 - accuracy: 1.0000 - val_loss: 1.0443 - val_accuracy: 0.8035\n",
      "Epoch 143/200\n",
      "21/21 [==============================] - 0s 7ms/step - loss: 4.1771e-04 - accuracy: 1.0000 - val_loss: 1.0466 - val_accuracy: 0.8035\n",
      "Epoch 144/200\n",
      "21/21 [==============================] - 0s 7ms/step - loss: 4.1289e-04 - accuracy: 1.0000 - val_loss: 1.0495 - val_accuracy: 0.8035\n",
      "Epoch 145/200\n",
      "21/21 [==============================] - 0s 8ms/step - loss: 4.0350e-04 - accuracy: 1.0000 - val_loss: 1.0517 - val_accuracy: 0.8035\n",
      "Epoch 146/200\n",
      "21/21 [==============================] - 0s 7ms/step - loss: 4.2123e-04 - accuracy: 1.0000 - val_loss: 1.0543 - val_accuracy: 0.8035\n",
      "Epoch 147/200\n",
      "21/21 [==============================] - 0s 7ms/step - loss: 3.9631e-04 - accuracy: 1.0000 - val_loss: 1.0569 - val_accuracy: 0.8035\n",
      "Epoch 148/200\n",
      "21/21 [==============================] - 0s 7ms/step - loss: 3.9849e-04 - accuracy: 1.0000 - val_loss: 1.0591 - val_accuracy: 0.8035\n",
      "Epoch 149/200\n",
      "21/21 [==============================] - 0s 7ms/step - loss: 3.8303e-04 - accuracy: 1.0000 - val_loss: 1.0618 - val_accuracy: 0.8035\n",
      "Epoch 150/200\n",
      "21/21 [==============================] - 0s 7ms/step - loss: 3.8367e-04 - accuracy: 1.0000 - val_loss: 1.0641 - val_accuracy: 0.8035\n",
      "Epoch 151/200\n",
      "21/21 [==============================] - 0s 7ms/step - loss: 3.7241e-04 - accuracy: 1.0000 - val_loss: 1.0667 - val_accuracy: 0.8035\n",
      "Epoch 152/200\n",
      "21/21 [==============================] - 0s 7ms/step - loss: 3.7284e-04 - accuracy: 1.0000 - val_loss: 1.0692 - val_accuracy: 0.8035\n",
      "Epoch 153/200\n",
      "21/21 [==============================] - 0s 7ms/step - loss: 3.5875e-04 - accuracy: 1.0000 - val_loss: 1.0714 - val_accuracy: 0.8035\n",
      "Epoch 154/200\n",
      "21/21 [==============================] - 0s 7ms/step - loss: 3.5034e-04 - accuracy: 1.0000 - val_loss: 1.0740 - val_accuracy: 0.8035\n",
      "Epoch 155/200\n",
      "21/21 [==============================] - 0s 7ms/step - loss: 3.5671e-04 - accuracy: 1.0000 - val_loss: 1.0760 - val_accuracy: 0.8035\n",
      "Epoch 156/200\n",
      "21/21 [==============================] - 0s 7ms/step - loss: 3.5244e-04 - accuracy: 1.0000 - val_loss: 1.0785 - val_accuracy: 0.8035\n",
      "Epoch 157/200\n",
      "21/21 [==============================] - 0s 7ms/step - loss: 3.4577e-04 - accuracy: 1.0000 - val_loss: 1.0810 - val_accuracy: 0.8035\n",
      "Epoch 158/200\n",
      "21/21 [==============================] - 0s 7ms/step - loss: 3.3433e-04 - accuracy: 1.0000 - val_loss: 1.0833 - val_accuracy: 0.8035\n",
      "Epoch 159/200\n",
      "21/21 [==============================] - 0s 8ms/step - loss: 3.3436e-04 - accuracy: 1.0000 - val_loss: 1.0859 - val_accuracy: 0.8035\n",
      "Epoch 160/200\n",
      "21/21 [==============================] - 0s 7ms/step - loss: 3.3605e-04 - accuracy: 1.0000 - val_loss: 1.0883 - val_accuracy: 0.8020\n",
      "Epoch 161/200\n",
      "21/21 [==============================] - 0s 7ms/step - loss: 3.2707e-04 - accuracy: 1.0000 - val_loss: 1.0907 - val_accuracy: 0.8020\n",
      "Epoch 162/200\n",
      "21/21 [==============================] - 0s 7ms/step - loss: 3.2095e-04 - accuracy: 1.0000 - val_loss: 1.0929 - val_accuracy: 0.8020\n",
      "Epoch 163/200\n",
      "21/21 [==============================] - 0s 7ms/step - loss: 3.0731e-04 - accuracy: 1.0000 - val_loss: 1.0955 - val_accuracy: 0.8020\n",
      "Epoch 164/200\n",
      "21/21 [==============================] - 0s 7ms/step - loss: 3.0908e-04 - accuracy: 1.0000 - val_loss: 1.0977 - val_accuracy: 0.8035\n",
      "Epoch 165/200\n",
      "21/21 [==============================] - 0s 7ms/step - loss: 3.0368e-04 - accuracy: 1.0000 - val_loss: 1.1000 - val_accuracy: 0.8035\n",
      "Epoch 166/200\n",
      "21/21 [==============================] - 0s 8ms/step - loss: 3.0551e-04 - accuracy: 1.0000 - val_loss: 1.1025 - val_accuracy: 0.8035\n",
      "Epoch 167/200\n",
      "21/21 [==============================] - 0s 7ms/step - loss: 3.0101e-04 - accuracy: 1.0000 - val_loss: 1.1046 - val_accuracy: 0.8035\n",
      "Epoch 168/200\n",
      "21/21 [==============================] - 0s 7ms/step - loss: 2.9934e-04 - accuracy: 1.0000 - val_loss: 1.1069 - val_accuracy: 0.8035\n",
      "Epoch 169/200\n",
      "21/21 [==============================] - 0s 7ms/step - loss: 2.8782e-04 - accuracy: 1.0000 - val_loss: 1.1093 - val_accuracy: 0.8035\n",
      "Epoch 170/200\n",
      "21/21 [==============================] - 0s 7ms/step - loss: 2.8815e-04 - accuracy: 1.0000 - val_loss: 1.1117 - val_accuracy: 0.8035\n",
      "Epoch 171/200\n",
      "21/21 [==============================] - 0s 7ms/step - loss: 2.8713e-04 - accuracy: 1.0000 - val_loss: 1.1139 - val_accuracy: 0.8035\n"
     ]
    },
    {
     "name": "stdout",
     "output_type": "stream",
     "text": [
      "Epoch 172/200\n",
      "21/21 [==============================] - 0s 6ms/step - loss: 2.8043e-04 - accuracy: 1.0000 - val_loss: 1.1160 - val_accuracy: 0.8035\n",
      "Epoch 173/200\n",
      "21/21 [==============================] - 0s 6ms/step - loss: 2.7240e-04 - accuracy: 1.0000 - val_loss: 1.1182 - val_accuracy: 0.8035\n",
      "Epoch 174/200\n",
      "21/21 [==============================] - 0s 7ms/step - loss: 2.7720e-04 - accuracy: 1.0000 - val_loss: 1.1205 - val_accuracy: 0.8035\n",
      "Epoch 175/200\n",
      "21/21 [==============================] - 0s 7ms/step - loss: 2.6255e-04 - accuracy: 1.0000 - val_loss: 1.1229 - val_accuracy: 0.8035\n",
      "Epoch 176/200\n",
      "21/21 [==============================] - 0s 7ms/step - loss: 2.6588e-04 - accuracy: 1.0000 - val_loss: 1.1253 - val_accuracy: 0.8035\n",
      "Epoch 177/200\n",
      "21/21 [==============================] - 0s 7ms/step - loss: 2.6400e-04 - accuracy: 1.0000 - val_loss: 1.1276 - val_accuracy: 0.8035\n",
      "Epoch 178/200\n",
      "21/21 [==============================] - 0s 7ms/step - loss: 2.6225e-04 - accuracy: 1.0000 - val_loss: 1.1297 - val_accuracy: 0.8035\n",
      "Epoch 179/200\n",
      "21/21 [==============================] - 0s 7ms/step - loss: 2.5766e-04 - accuracy: 1.0000 - val_loss: 1.1321 - val_accuracy: 0.8035\n",
      "Epoch 180/200\n",
      "21/21 [==============================] - 0s 7ms/step - loss: 2.5404e-04 - accuracy: 1.0000 - val_loss: 1.1342 - val_accuracy: 0.8035\n",
      "Epoch 181/200\n",
      "21/21 [==============================] - 0s 7ms/step - loss: 2.4698e-04 - accuracy: 1.0000 - val_loss: 1.1364 - val_accuracy: 0.8035\n",
      "Epoch 182/200\n",
      "21/21 [==============================] - 0s 7ms/step - loss: 2.4601e-04 - accuracy: 1.0000 - val_loss: 1.1387 - val_accuracy: 0.8035\n",
      "Epoch 183/200\n",
      "21/21 [==============================] - 0s 7ms/step - loss: 2.4826e-04 - accuracy: 1.0000 - val_loss: 1.1412 - val_accuracy: 0.8035\n",
      "Epoch 184/200\n",
      "21/21 [==============================] - 0s 7ms/step - loss: 2.3598e-04 - accuracy: 1.0000 - val_loss: 1.1432 - val_accuracy: 0.8035\n",
      "Epoch 185/200\n",
      "21/21 [==============================] - 0s 7ms/step - loss: 2.3517e-04 - accuracy: 1.0000 - val_loss: 1.1456 - val_accuracy: 0.8035\n",
      "Epoch 186/200\n",
      "21/21 [==============================] - 0s 7ms/step - loss: 2.3145e-04 - accuracy: 1.0000 - val_loss: 1.1477 - val_accuracy: 0.8035\n",
      "Epoch 187/200\n",
      "21/21 [==============================] - 0s 8ms/step - loss: 2.2512e-04 - accuracy: 1.0000 - val_loss: 1.1501 - val_accuracy: 0.8035\n",
      "Epoch 188/200\n",
      "21/21 [==============================] - 0s 7ms/step - loss: 2.3434e-04 - accuracy: 1.0000 - val_loss: 1.1524 - val_accuracy: 0.8049\n",
      "Epoch 189/200\n",
      "21/21 [==============================] - 0s 7ms/step - loss: 2.2389e-04 - accuracy: 1.0000 - val_loss: 1.1543 - val_accuracy: 0.8049\n",
      "Epoch 190/200\n",
      "21/21 [==============================] - 0s 7ms/step - loss: 2.1902e-04 - accuracy: 1.0000 - val_loss: 1.1567 - val_accuracy: 0.8049\n",
      "Epoch 191/200\n",
      "21/21 [==============================] - 0s 7ms/step - loss: 2.2009e-04 - accuracy: 1.0000 - val_loss: 1.1588 - val_accuracy: 0.8049\n",
      "Epoch 192/200\n",
      "21/21 [==============================] - 0s 7ms/step - loss: 2.2227e-04 - accuracy: 1.0000 - val_loss: 1.1609 - val_accuracy: 0.8049\n",
      "Epoch 193/200\n",
      "21/21 [==============================] - 0s 7ms/step - loss: 2.1631e-04 - accuracy: 1.0000 - val_loss: 1.1632 - val_accuracy: 0.8035\n",
      "Epoch 194/200\n",
      "21/21 [==============================] - 0s 8ms/step - loss: 2.0825e-04 - accuracy: 1.0000 - val_loss: 1.1650 - val_accuracy: 0.8035\n",
      "Epoch 195/200\n",
      "21/21 [==============================] - 0s 7ms/step - loss: 2.0640e-04 - accuracy: 1.0000 - val_loss: 1.1674 - val_accuracy: 0.8035\n",
      "Epoch 196/200\n",
      "21/21 [==============================] - 0s 7ms/step - loss: 2.0618e-04 - accuracy: 1.0000 - val_loss: 1.1697 - val_accuracy: 0.8035\n",
      "Epoch 197/200\n",
      "21/21 [==============================] - 0s 7ms/step - loss: 2.0528e-04 - accuracy: 1.0000 - val_loss: 1.1717 - val_accuracy: 0.8035\n",
      "Epoch 198/200\n",
      "21/21 [==============================] - 0s 7ms/step - loss: 2.0122e-04 - accuracy: 1.0000 - val_loss: 1.1742 - val_accuracy: 0.8035\n",
      "Epoch 199/200\n",
      "21/21 [==============================] - 0s 7ms/step - loss: 1.9291e-04 - accuracy: 1.0000 - val_loss: 1.1759 - val_accuracy: 0.8035\n",
      "Epoch 200/200\n",
      "21/21 [==============================] - 0s 6ms/step - loss: 1.9738e-04 - accuracy: 1.0000 - val_loss: 1.1784 - val_accuracy: 0.8035\n"
     ]
    }
   ],
   "source": [
    "history = model.fit(X_train, y_train,\n",
    "                             epochs=200,\n",
    "                             validation_data=(X_test, y_test),\n",
    "                             batch_size = 100)"
   ]
  },
  {
   "cell_type": "code",
   "execution_count": 26,
   "metadata": {},
   "outputs": [
    {
     "name": "stdout",
     "output_type": "stream",
     "text": [
      "65/65 [==============================] - 0s 2ms/step - loss: 1.9348e-04 - accuracy: 1.0000\n",
      "loss: 0.00019348200294189155, accuracy: 1.0\n"
     ]
    }
   ],
   "source": [
    "loss, accuracy = model.evaluate(X_train, y_train)\n",
    "print('loss: {}, accuracy: {}'.format(loss, accuracy))"
   ]
  },
  {
   "cell_type": "code",
   "execution_count": 27,
   "metadata": {},
   "outputs": [
    {
     "name": "stdout",
     "output_type": "stream",
     "text": [
      "22/22 [==============================] - 0s 2ms/step - loss: 1.1784 - accuracy: 0.8035\n",
      "loss: 1.178383708000183, accuracy: 0.8034934401512146\n"
     ]
    }
   ],
   "source": [
    "loss, accuracy = model.evaluate(X_test, y_test)\n",
    "print('loss: {}, accuracy: {}'.format(loss, accuracy))"
   ]
  },
  {
   "cell_type": "markdown",
   "metadata": {},
   "source": [
    "**Plot**"
   ]
  },
  {
   "cell_type": "code",
   "execution_count": 28,
   "metadata": {},
   "outputs": [],
   "source": [
    "import matplotlib.pyplot as plt \n",
    "plt.style.use('ggplot')"
   ]
  },
  {
   "cell_type": "code",
   "execution_count": 29,
   "metadata": {},
   "outputs": [],
   "source": [
    "def plot_history(history):\n",
    "    acc = history.history['accuracy']\n",
    "    val_acc = history.history['val_accuracy']\n",
    "    loss = history.history['loss']\n",
    "    val_loss = history.history['val_loss']\n",
    "    \n",
    "    x = range(1, len(acc) + 1) #200 1--200\n",
    "    plt.figure(figsize=(12,5))\n",
    "    plt.subplot(1, 2, 1)\n",
    "    plt.plot(x, acc, 'b', label='Training acc')\n",
    "    plt.plot(x, val_acc, 'r', label='Validation acc')\n",
    "    plt.title('Training and Validation accuracy')\n",
    "    plt.legend()\n",
    "    plt.subplot(1, 2, 2)\n",
    "    plt.plot(x, loss, 'b', label='Training Loss')\n",
    "    plt.plot(x, val_loss, 'r', label='Validation Loss')\n",
    "    plt.title('Training and Validation Loss')\n",
    "    plt.legend()\n",
    "    plt.show()"
   ]
  },
  {
   "cell_type": "code",
   "execution_count": 30,
   "metadata": {
    "scrolled": true
   },
   "outputs": [
    {
     "data": {
      "image/png": "[encoded data removed]",
      "text/plain": [
       "<Figure size 864x360 with 2 Axes>"
      ]
     },
     "metadata": {},
     "output_type": "display_data"
    }
   ],
   "source": [
    "plot_history(history)"
   ]
  },
  {
   "cell_type": "markdown",
   "metadata": {},
   "source": [
    "---\n",
    "**Word Embedings** **词嵌入**"
   ]
  },
  {
   "cell_type": "code",
   "execution_count": 31,
   "metadata": {},
   "outputs": [],
   "source": [
    "from tensorflow.keras.preprocessing.text import Tokenizer"
   ]
  },
  {
   "cell_type": "code",
   "execution_count": 35,
   "metadata": {},
   "outputs": [],
   "source": [
    "tokenizer = Tokenizer(num_words=5000)\n",
    "tokenizer.fit_on_texts(sentences_train)\n",
    "\n",
    "X_train = tokenizer.texts_to_sequences(sentences_train)\n",
    "X_test = tokenizer.texts_to_sequences(sentences_test)"
   ]
  },
  {
   "cell_type": "code",
   "execution_count": 39,
   "metadata": {},
   "outputs": [
    {
     "name": "stdout",
     "output_type": "stream",
     "text": [
      "<class 'list'> [56, 296, 15, 1, 1237, 915, 86, 10, 1910, 11, 608, 2, 543, 197, 297]\n"
     ]
    }
   ],
   "source": [
    "print(type(X_train), X_train[3])"
   ]
  },
  {
   "cell_type": "markdown",
   "metadata": {},
   "source": [
    "**make all sentences length the same**"
   ]
  },
  {
   "cell_type": "code",
   "execution_count": 41,
   "metadata": {},
   "outputs": [],
   "source": [
    "from tensorflow.keras.preprocessing.sequence import pad_sequences"
   ]
  },
  {
   "cell_type": "code",
   "execution_count": 42,
   "metadata": {},
   "outputs": [
    {
     "data": {
      "text/plain": [
       "array([ 278,  295,  212, 1907,   39,  349,    0,    0,    0,    0,    0,\n",
       "          0,    0,    0,    0,    0,    0,    0,    0,    0,    0,    0,\n",
       "          0,    0,    0,    0,    0,    0,    0,    0])"
      ]
     },
     "execution_count": 42,
     "metadata": {},
     "output_type": "execute_result"
    }
   ],
   "source": [
    "maxlen = 30 \n",
    "X_train = pad_sequences(X_train, padding='post', maxlen=maxlen)\n",
    "X_test = pad_sequences(X_test, padding='post', maxlen=maxlen)\n",
    "X_train[0,:]"
   ]
  },
  {
   "cell_type": "markdown",
   "metadata": {},
   "source": [
    "**embedding layer**"
   ]
  },
  {
   "cell_type": "code",
   "execution_count": 44,
   "metadata": {},
   "outputs": [],
   "source": [
    "embedding_dim = 50\n",
    "vocab_size = len(tokenizer.word_index) + 1"
   ]
  },
  {
   "cell_type": "code",
   "execution_count": 45,
   "metadata": {},
   "outputs": [
    {
     "name": "stdout",
     "output_type": "stream",
     "text": [
      "Model: \"sequential_1\"\n",
      "_________________________________________________________________\n",
      "Layer (type)                 Output Shape              Param #   \n",
      "=================================================================\n",
      "embedding (Embedding)        (None, 30, 50)            230150    \n",
      "_________________________________________________________________\n",
      "flatten (Flatten)            (None, 1500)              0         \n",
      "_________________________________________________________________\n",
      "dense_3 (Dense)              (None, 10)                15010     \n",
      "_________________________________________________________________\n",
      "dense_4 (Dense)              (None, 1)                 11        \n",
      "=================================================================\n",
      "Total params: 245,171\n",
      "Trainable params: 245,171\n",
      "Non-trainable params: 0\n",
      "_________________________________________________________________\n"
     ]
    }
   ],
   "source": [
    "model = Sequential()\n",
    "model.add(layers.Embedding(input_dim=vocab_size,\n",
    "                                                output_dim=embedding_dim,\n",
    "                                                input_length=maxlen))\n",
    "model.add(layers.Flatten())\n",
    "model.add(layers.Dense(10, activation='relu'))\n",
    "model.add(layers.Dense(1, activation='sigmoid'))\n",
    "model.compile(optimizer='adam',\n",
    "                         loss='binary_crossentropy',\n",
    "                         metrics=['accuracy'])\n",
    "model.summary()"
   ]
  },
  {
   "cell_type": "code",
   "execution_count": 46,
   "metadata": {},
   "outputs": [
    {
     "name": "stdout",
     "output_type": "stream",
     "text": [
      "Epoch 1/20\n",
      "207/207 [==============================] - 1s 4ms/step - loss: 0.6916 - accuracy: 0.5200 - val_loss: 0.6533 - val_accuracy: 0.7089\n",
      "Epoch 2/20\n",
      "207/207 [==============================] - 1s 4ms/step - loss: 0.5115 - accuracy: 0.8559 - val_loss: 0.4621 - val_accuracy: 0.7860\n",
      "Epoch 3/20\n",
      "207/207 [==============================] - 1s 4ms/step - loss: 0.1250 - accuracy: 0.9809 - val_loss: 0.4769 - val_accuracy: 0.7962\n",
      "Epoch 4/20\n",
      "207/207 [==============================] - 1s 4ms/step - loss: 0.0313 - accuracy: 0.9980 - val_loss: 0.5158 - val_accuracy: 0.7817\n",
      "Epoch 5/20\n",
      "207/207 [==============================] - 1s 4ms/step - loss: 0.0125 - accuracy: 0.9992 - val_loss: 0.5371 - val_accuracy: 0.7991\n",
      "Epoch 6/20\n",
      "207/207 [==============================] - 1s 4ms/step - loss: 0.0077 - accuracy: 0.9999 - val_loss: 0.5613 - val_accuracy: 0.7962\n",
      "Epoch 7/20\n",
      "207/207 [==============================] - 1s 4ms/step - loss: 0.0040 - accuracy: 1.0000 - val_loss: 0.5948 - val_accuracy: 0.8006\n",
      "Epoch 8/20\n",
      "207/207 [==============================] - 1s 4ms/step - loss: 0.0029 - accuracy: 1.0000 - val_loss: 0.6090 - val_accuracy: 0.7918\n",
      "Epoch 9/20\n",
      "207/207 [==============================] - 1s 4ms/step - loss: 0.0019 - accuracy: 1.0000 - val_loss: 0.6383 - val_accuracy: 0.7875\n",
      "Epoch 10/20\n",
      "207/207 [==============================] - 1s 4ms/step - loss: 0.0021 - accuracy: 1.0000 - val_loss: 0.6438 - val_accuracy: 0.7962\n",
      "Epoch 11/20\n",
      "207/207 [==============================] - 1s 4ms/step - loss: 0.0012 - accuracy: 1.0000 - val_loss: 0.6601 - val_accuracy: 0.7962\n",
      "Epoch 12/20\n",
      "207/207 [==============================] - 1s 4ms/step - loss: 9.1799e-04 - accuracy: 1.0000 - val_loss: 0.6790 - val_accuracy: 0.7933\n",
      "Epoch 13/20\n",
      "207/207 [==============================] - 1s 4ms/step - loss: 6.7230e-04 - accuracy: 1.0000 - val_loss: 0.6897 - val_accuracy: 0.7904\n",
      "Epoch 14/20\n",
      "207/207 [==============================] - 1s 4ms/step - loss: 5.0292e-04 - accuracy: 1.0000 - val_loss: 0.7076 - val_accuracy: 0.8006\n",
      "Epoch 15/20\n",
      "207/207 [==============================] - 1s 4ms/step - loss: 4.6162e-04 - accuracy: 1.0000 - val_loss: 0.7214 - val_accuracy: 0.7875\n",
      "Epoch 16/20\n",
      "207/207 [==============================] - 1s 4ms/step - loss: 3.9478e-04 - accuracy: 1.0000 - val_loss: 0.7333 - val_accuracy: 0.7860\n",
      "Epoch 17/20\n",
      "207/207 [==============================] - 1s 4ms/step - loss: 2.6779e-04 - accuracy: 1.0000 - val_loss: 0.7414 - val_accuracy: 0.7948\n",
      "Epoch 18/20\n",
      "207/207 [==============================] - 1s 4ms/step - loss: 2.4908e-04 - accuracy: 1.0000 - val_loss: 0.7596 - val_accuracy: 0.7846\n",
      "Epoch 19/20\n",
      "207/207 [==============================] - 1s 4ms/step - loss: 2.3206e-04 - accuracy: 1.0000 - val_loss: 0.7665 - val_accuracy: 0.7977\n",
      "Epoch 20/20\n",
      "207/207 [==============================] - 1s 4ms/step - loss: 1.8224e-04 - accuracy: 1.0000 - val_loss: 0.7816 - val_accuracy: 0.7831\n"
     ]
    }
   ],
   "source": [
    "history = model.fit(X_train, y_train,\n",
    "                             epochs=20,\n",
    "                             validation_data=(X_test, y_test),\n",
    "                             batch_size=10)"
   ]
  },
  {
   "cell_type": "code",
   "execution_count": 48,
   "metadata": {},
   "outputs": [
    {
     "name": "stdout",
     "output_type": "stream",
     "text": [
      "Training Accuracy: 1.0000\n",
      "Testing Accuracy:  0.7831\n"
     ]
    },
    {
     "data": {
      "image/png": "[encoded data removed]",
      "text/plain": [
       "<Figure size 864x360 with 2 Axes>"
      ]
     },
     "metadata": {},
     "output_type": "display_data"
    }
   ],
   "source": [
    "loss, accuracy = model.evaluate(X_train, y_train, verbose=False)\n",
    "print(\"Training Accuracy: {:.4f}\".format(accuracy))\n",
    "loss, accuracy = model.evaluate(X_test, y_test, verbose=False)\n",
    "print(\"Testing Accuracy:  {:.4f}\".format(accuracy))\n",
    "plot_history(history)"
   ]
  },
  {
   "cell_type": "markdown",
   "metadata": {},
   "source": [
    "**Word2Vec**"
   ]
  },
  {
   "cell_type": "code",
   "execution_count": 49,
   "metadata": {},
   "outputs": [],
   "source": [
    "def create_embedding_matrix(filepath, word_index, embedding_dim):\n",
    "    vocab_size = len(word_index) + 1\n",
    "    embedding_matrix = np.zeros((vocab_size, embedding_dim))\n",
    "    \n",
    "    with open(filepath, encoding='utf-8') as f:\n",
    "        for line in f:\n",
    "            word, *vector = line.split()\n",
    "            if word in word_index:\n",
    "                idx = word_index[word]\n",
    "                embedding_matrix[idx] = np.array(\n",
    "                        vector, dtype=np.float32)[:embedding_dim]\n",
    "        return embedding_matrix"
   ]
  },
  {
   "cell_type": "code",
   "execution_count": 50,
   "metadata": {},
   "outputs": [],
   "source": [
    "embedding_dim = 50\n",
    "embedding_matrix = create_embedding_matrix('../data/glove.6B.100d.txt', tokenizer.word_index, embedding_dim)"
   ]
  },
  {
   "cell_type": "code",
   "execution_count": 52,
   "metadata": {},
   "outputs": [
    {
     "data": {
      "text/plain": [
       "(4603, 50)"
      ]
     },
     "execution_count": 52,
     "metadata": {},
     "output_type": "execute_result"
    }
   ],
   "source": [
    "embedding_matrix.shape"
   ]
  },
  {
   "cell_type": "code",
   "execution_count": 53,
   "metadata": {},
   "outputs": [
    {
     "data": {
      "text/plain": [
       "array([-0.030769  ,  0.11993   ,  0.53908998, -0.43696001, -0.73936999,\n",
       "       -0.15345   ,  0.081126  , -0.38558999, -0.68796998, -0.41632   ,\n",
       "       -0.13183001, -0.24922   ,  0.44100001,  0.085919  ,  0.20871   ,\n",
       "       -0.063582  ,  0.062228  , -0.051234  , -0.13398001,  1.14180005,\n",
       "        0.036526  ,  0.49028999, -0.24567001, -0.412     ,  0.12349   ,\n",
       "        0.41336   , -0.48396999, -0.54242998, -0.27787   , -0.26014999,\n",
       "       -0.38485   ,  0.78656   ,  0.1023    , -0.20712   ,  0.40751001,\n",
       "        0.32025999, -0.51051998,  0.48361999, -0.0099498 , -0.38685   ,\n",
       "        0.034975  , -0.167     ,  0.4237    , -0.54163998, -0.30322999,\n",
       "       -0.36983001,  0.082836  , -0.52538002, -0.064531  , -1.398     ])"
      ]
     },
     "execution_count": 53,
     "metadata": {},
     "output_type": "execute_result"
    }
   ],
   "source": [
    "embedding_matrix[20]"
   ]
  },
  {
   "cell_type": "code",
   "execution_count": 54,
   "metadata": {},
   "outputs": [
    {
     "name": "stdout",
     "output_type": "stream",
     "text": [
      "Model: \"sequential_2\"\n",
      "_________________________________________________________________\n",
      "Layer (type)                 Output Shape              Param #   \n",
      "=================================================================\n",
      "embedding_1 (Embedding)      (None, 30, 50)            230150    \n",
      "_________________________________________________________________\n",
      "global_max_pooling1d (Global (None, 50)                0         \n",
      "_________________________________________________________________\n",
      "dense_5 (Dense)              (None, 10)                510       \n",
      "_________________________________________________________________\n",
      "dense_6 (Dense)              (None, 1)                 11        \n",
      "=================================================================\n",
      "Total params: 230,671\n",
      "Trainable params: 521\n",
      "Non-trainable params: 230,150\n",
      "_________________________________________________________________\n"
     ]
    }
   ],
   "source": [
    "model = Sequential()\n",
    "model.add(layers.Embedding(vocab_size, embedding_dim,\n",
    "                                                weights=[embedding_matrix],\n",
    "                                                input_length=maxlen,\n",
    "                                                trainable=False))\n",
    "model.add(layers.GlobalMaxPool1D())\n",
    "model.add(layers.Dense(10, activation='relu'))\n",
    "model.add(layers.Dense(1, activation='sigmoid'))\n",
    "\n",
    "model.compile(optimizer='adam',\n",
    "                         loss='binary_crossentropy',\n",
    "                         metrics=['accuracy'])\n",
    "\n",
    "model.summary()"
   ]
  },
  {
   "cell_type": "code",
   "execution_count": 56,
   "metadata": {},
   "outputs": [
    {
     "name": "stdout",
     "output_type": "stream",
     "text": [
      "Epoch 1/50\n",
      "207/207 [==============================] - 1s 4ms/step - loss: 0.5260 - accuracy: 0.7351 - val_loss: 0.5840 - val_accuracy: 0.6900\n",
      "Epoch 2/50\n",
      "207/207 [==============================] - 1s 4ms/step - loss: 0.5257 - accuracy: 0.7297 - val_loss: 0.5867 - val_accuracy: 0.6856\n",
      "Epoch 3/50\n",
      "207/207 [==============================] - 1s 3ms/step - loss: 0.5211 - accuracy: 0.7399 - val_loss: 0.5847 - val_accuracy: 0.6827\n",
      "Epoch 4/50\n",
      "207/207 [==============================] - 1s 3ms/step - loss: 0.5187 - accuracy: 0.7409 - val_loss: 0.5958 - val_accuracy: 0.6827\n",
      "Epoch 5/50\n",
      "207/207 [==============================] - 1s 3ms/step - loss: 0.5197 - accuracy: 0.7404 - val_loss: 0.5824 - val_accuracy: 0.6900\n",
      "Epoch 6/50\n",
      "207/207 [==============================] - 1s 3ms/step - loss: 0.5234 - accuracy: 0.7375 - val_loss: 0.5818 - val_accuracy: 0.6929\n",
      "Epoch 7/50\n",
      "207/207 [==============================] - 1s 3ms/step - loss: 0.5177 - accuracy: 0.7419 - val_loss: 0.5889 - val_accuracy: 0.6827\n",
      "Epoch 8/50\n",
      "207/207 [==============================] - 1s 3ms/step - loss: 0.5178 - accuracy: 0.7414 - val_loss: 0.5866 - val_accuracy: 0.6812\n",
      "Epoch 9/50\n",
      "207/207 [==============================] - 1s 3ms/step - loss: 0.5181 - accuracy: 0.7419 - val_loss: 0.5916 - val_accuracy: 0.6870\n",
      "Epoch 10/50\n",
      "207/207 [==============================] - 1s 3ms/step - loss: 0.5152 - accuracy: 0.7438 - val_loss: 0.6008 - val_accuracy: 0.6827\n",
      "Epoch 11/50\n",
      "207/207 [==============================] - 1s 3ms/step - loss: 0.5157 - accuracy: 0.7477 - val_loss: 0.5948 - val_accuracy: 0.6914\n",
      "Epoch 12/50\n",
      "207/207 [==============================] - 1s 4ms/step - loss: 0.5135 - accuracy: 0.7419 - val_loss: 0.5942 - val_accuracy: 0.6841\n",
      "Epoch 13/50\n",
      "207/207 [==============================] - 1s 3ms/step - loss: 0.5135 - accuracy: 0.7487 - val_loss: 0.5854 - val_accuracy: 0.6900\n",
      "Epoch 14/50\n",
      "207/207 [==============================] - 1s 3ms/step - loss: 0.5187 - accuracy: 0.7394 - val_loss: 0.5858 - val_accuracy: 0.6870\n",
      "Epoch 15/50\n",
      "207/207 [==============================] - 1s 3ms/step - loss: 0.5131 - accuracy: 0.7414 - val_loss: 0.5916 - val_accuracy: 0.6812\n",
      "Epoch 16/50\n",
      "207/207 [==============================] - 1s 3ms/step - loss: 0.5083 - accuracy: 0.7525 - val_loss: 0.5944 - val_accuracy: 0.6885\n",
      "Epoch 17/50\n",
      "207/207 [==============================] - 1s 3ms/step - loss: 0.5097 - accuracy: 0.7525 - val_loss: 0.5930 - val_accuracy: 0.6783\n",
      "Epoch 18/50\n",
      "207/207 [==============================] - 1s 3ms/step - loss: 0.5095 - accuracy: 0.7433 - val_loss: 0.5942 - val_accuracy: 0.6856\n",
      "Epoch 19/50\n",
      "207/207 [==============================] - 1s 3ms/step - loss: 0.5109 - accuracy: 0.7458 - val_loss: 0.5923 - val_accuracy: 0.6827\n",
      "Epoch 20/50\n",
      "207/207 [==============================] - 1s 3ms/step - loss: 0.5057 - accuracy: 0.7496 - val_loss: 0.6033 - val_accuracy: 0.6798\n",
      "Epoch 21/50\n",
      "207/207 [==============================] - 1s 3ms/step - loss: 0.5077 - accuracy: 0.7506 - val_loss: 0.5873 - val_accuracy: 0.6841\n",
      "Epoch 22/50\n",
      "207/207 [==============================] - 1s 3ms/step - loss: 0.5041 - accuracy: 0.7501 - val_loss: 0.6030 - val_accuracy: 0.6754\n",
      "Epoch 23/50\n",
      "207/207 [==============================] - 1s 4ms/step - loss: 0.5064 - accuracy: 0.7472 - val_loss: 0.5882 - val_accuracy: 0.6885\n",
      "Epoch 24/50\n",
      "207/207 [==============================] - 1s 3ms/step - loss: 0.5049 - accuracy: 0.7472 - val_loss: 0.5999 - val_accuracy: 0.6754\n",
      "Epoch 25/50\n",
      "207/207 [==============================] - 1s 3ms/step - loss: 0.5027 - accuracy: 0.7535 - val_loss: 0.5908 - val_accuracy: 0.6900\n",
      "Epoch 26/50\n",
      "207/207 [==============================] - 1s 4ms/step - loss: 0.5069 - accuracy: 0.7540 - val_loss: 0.6025 - val_accuracy: 0.6798\n",
      "Epoch 27/50\n",
      "207/207 [==============================] - 1s 3ms/step - loss: 0.5002 - accuracy: 0.7559 - val_loss: 0.5954 - val_accuracy: 0.6885\n",
      "Epoch 28/50\n",
      "207/207 [==============================] - 1s 4ms/step - loss: 0.4987 - accuracy: 0.7564 - val_loss: 0.6061 - val_accuracy: 0.6972\n",
      "Epoch 29/50\n",
      "207/207 [==============================] - 1s 3ms/step - loss: 0.5022 - accuracy: 0.7462 - val_loss: 0.5955 - val_accuracy: 0.6841\n",
      "Epoch 30/50\n",
      "207/207 [==============================] - 1s 3ms/step - loss: 0.4971 - accuracy: 0.7608 - val_loss: 0.5926 - val_accuracy: 0.6929\n",
      "Epoch 31/50\n",
      "207/207 [==============================] - 1s 3ms/step - loss: 0.4974 - accuracy: 0.7492 - val_loss: 0.6042 - val_accuracy: 0.6798\n",
      "Epoch 32/50\n",
      "207/207 [==============================] - 1s 3ms/step - loss: 0.4951 - accuracy: 0.7584 - val_loss: 0.6008 - val_accuracy: 0.6900\n",
      "Epoch 33/50\n",
      "207/207 [==============================] - 1s 4ms/step - loss: 0.4954 - accuracy: 0.7569 - val_loss: 0.6053 - val_accuracy: 0.6856\n",
      "Epoch 34/50\n",
      "207/207 [==============================] - 1s 3ms/step - loss: 0.4993 - accuracy: 0.7516 - val_loss: 0.6010 - val_accuracy: 0.6914\n",
      "Epoch 35/50\n",
      "207/207 [==============================] - 1s 4ms/step - loss: 0.4947 - accuracy: 0.7487 - val_loss: 0.6014 - val_accuracy: 0.6929\n",
      "Epoch 36/50\n",
      "207/207 [==============================] - 1s 4ms/step - loss: 0.4927 - accuracy: 0.7579 - val_loss: 0.6044 - val_accuracy: 0.6870\n",
      "Epoch 37/50\n",
      "207/207 [==============================] - 1s 4ms/step - loss: 0.4935 - accuracy: 0.7584 - val_loss: 0.6062 - val_accuracy: 0.6870\n",
      "Epoch 38/50\n",
      "207/207 [==============================] - 1s 4ms/step - loss: 0.4938 - accuracy: 0.7540 - val_loss: 0.6047 - val_accuracy: 0.6929\n",
      "Epoch 39/50\n",
      "207/207 [==============================] - 1s 4ms/step - loss: 0.4902 - accuracy: 0.7579 - val_loss: 0.6103 - val_accuracy: 0.6885\n",
      "Epoch 40/50\n",
      "207/207 [==============================] - 1s 4ms/step - loss: 0.4915 - accuracy: 0.7608 - val_loss: 0.6082 - val_accuracy: 0.6856\n",
      "Epoch 41/50\n",
      "207/207 [==============================] - 1s 4ms/step - loss: 0.4884 - accuracy: 0.7579 - val_loss: 0.6166 - val_accuracy: 0.6798\n",
      "Epoch 42/50\n",
      "207/207 [==============================] - 1s 3ms/step - loss: 0.4898 - accuracy: 0.7589 - val_loss: 0.6116 - val_accuracy: 0.6856\n",
      "Epoch 43/50\n",
      "207/207 [==============================] - 1s 3ms/step - loss: 0.4866 - accuracy: 0.7661 - val_loss: 0.6149 - val_accuracy: 0.6681\n",
      "Epoch 44/50\n",
      "207/207 [==============================] - 1s 4ms/step - loss: 0.4873 - accuracy: 0.7647 - val_loss: 0.6088 - val_accuracy: 0.6667\n",
      "Epoch 45/50\n",
      "207/207 [==============================] - 1s 4ms/step - loss: 0.4881 - accuracy: 0.7627 - val_loss: 0.6066 - val_accuracy: 0.6710\n",
      "Epoch 46/50\n",
      "207/207 [==============================] - 1s 4ms/step - loss: 0.4893 - accuracy: 0.7627 - val_loss: 0.6009 - val_accuracy: 0.6929\n",
      "Epoch 47/50\n",
      "207/207 [==============================] - 1s 4ms/step - loss: 0.4839 - accuracy: 0.7627 - val_loss: 0.6159 - val_accuracy: 0.6827\n",
      "Epoch 48/50\n",
      "207/207 [==============================] - 1s 4ms/step - loss: 0.4839 - accuracy: 0.7589 - val_loss: 0.6065 - val_accuracy: 0.6870\n",
      "Epoch 49/50\n",
      "207/207 [==============================] - 1s 4ms/step - loss: 0.4810 - accuracy: 0.7608 - val_loss: 0.6201 - val_accuracy: 0.6798\n",
      "Epoch 50/50\n",
      "207/207 [==============================] - 1s 3ms/step - loss: 0.4831 - accuracy: 0.7608 - val_loss: 0.6191 - val_accuracy: 0.6638\n"
     ]
    }
   ],
   "source": [
    "history = model.fit(X_train, y_train,\n",
    "                    epochs=50,\n",
    "                    validation_data=(X_test, y_test),\n",
    "                    batch_size=10)"
   ]
  },
  {
   "cell_type": "code",
   "execution_count": 57,
   "metadata": {},
   "outputs": [
    {
     "name": "stdout",
     "output_type": "stream",
     "text": [
      "Training Accuracy: 0.7715\n",
      "Testing Accuracy:  0.6638\n"
     ]
    },
    {
     "data": {
      "image/png": "[encoded data removed]",
      "text/plain": [
       "<Figure size 864x360 with 2 Axes>"
      ]
     },
     "metadata": {},
     "output_type": "display_data"
    }
   ],
   "source": [
    "loss, accuracy = model.evaluate(X_train, y_train, verbose=False)\n",
    "print(\"Training Accuracy: {:.4f}\".format(accuracy))\n",
    "loss, accuracy = model.evaluate(X_test, y_test, verbose=False)\n",
    "print(\"Testing Accuracy:  {:.4f}\".format(accuracy))\n",
    "plot_history(history)"
   ]
  },
  {
   "cell_type": "markdown",
   "metadata": {},
   "source": [
    "Still Train word2vec"
   ]
  },
  {
   "cell_type": "code",
   "execution_count": 58,
   "metadata": {},
   "outputs": [
    {
     "name": "stdout",
     "output_type": "stream",
     "text": [
      "Model: \"sequential_3\"\n",
      "_________________________________________________________________\n",
      "Layer (type)                 Output Shape              Param #   \n",
      "=================================================================\n",
      "embedding_2 (Embedding)      (None, 30, 50)            230150    \n",
      "_________________________________________________________________\n",
      "global_max_pooling1d_1 (Glob (None, 50)                0         \n",
      "_________________________________________________________________\n",
      "dense_7 (Dense)              (None, 10)                510       \n",
      "_________________________________________________________________\n",
      "dense_8 (Dense)              (None, 1)                 11        \n",
      "=================================================================\n",
      "Total params: 230,671\n",
      "Trainable params: 230,671\n",
      "Non-trainable params: 0\n",
      "_________________________________________________________________\n",
      "Training Accuracy: 1.0000\n",
      "Testing Accuracy:  0.8137\n"
     ]
    },
    {
     "data": {
      "image/png": "[encoded data removed]",
      "text/plain": [
       "<Figure size 864x360 with 2 Axes>"
      ]
     },
     "metadata": {},
     "output_type": "display_data"
    }
   ],
   "source": [
    "model = Sequential()\n",
    "model.add(layers.Embedding(vocab_size, embedding_dim, \n",
    "                           weights=[embedding_matrix], \n",
    "                           input_length=maxlen, \n",
    "                           trainable=True))\n",
    "model.add(layers.GlobalMaxPool1D())\n",
    "model.add(layers.Dense(10, activation='relu'))\n",
    "model.add(layers.Dense(1, activation='sigmoid'))\n",
    "model.compile(optimizer='adam',\n",
    "              loss='binary_crossentropy',\n",
    "              metrics=['accuracy'])\n",
    "model.summary()\n",
    "history = model.fit(X_train, y_train,\n",
    "                    epochs=50,\n",
    "                    verbose=False,\n",
    "                    validation_data=(X_test, y_test),\n",
    "                    batch_size=10)\n",
    "loss, accuracy = model.evaluate(X_train, y_train, verbose=False)\n",
    "print(\"Training Accuracy: {:.4f}\".format(accuracy))\n",
    "loss, accuracy = model.evaluate(X_test, y_test, verbose=False)\n",
    "print(\"Testing Accuracy:  {:.4f}\".format(accuracy))\n",
    "plot_history(history)"
   ]
  },
  {
   "cell_type": "markdown",
   "metadata": {},
   "source": [
    "**LSTM**"
   ]
  },
  {
   "cell_type": "code",
   "execution_count": 62,
   "metadata": {},
   "outputs": [],
   "source": [
    "from tensorflow.keras.layers import Dropout, LSTM\n",
    "from tensorflow.keras.optimizers import Adam"
   ]
  },
  {
   "cell_type": "code",
   "execution_count": 64,
   "metadata": {},
   "outputs": [
    {
     "name": "stdout",
     "output_type": "stream",
     "text": [
      "Model: \"sequential_5\"\n",
      "_________________________________________________________________\n",
      "Layer (type)                 Output Shape              Param #   \n",
      "=================================================================\n",
      "embedding_4 (Embedding)      (None, 30, 50)            230150    \n",
      "_________________________________________________________________\n",
      "lstm_1 (LSTM)                (None, 64)                29440     \n",
      "_________________________________________________________________\n",
      "dense_11 (Dense)             (None, 10)                650       \n",
      "_________________________________________________________________\n",
      "dense_12 (Dense)             (None, 1)                 11        \n",
      "=================================================================\n",
      "Total params: 260,251\n",
      "Trainable params: 260,251\n",
      "Non-trainable params: 0\n",
      "_________________________________________________________________\n",
      "Epoch 1/50\n",
      "33/33 [==============================] - 3s 23ms/step - loss: 0.6918 - accuracy: 0.5173 - val_loss: 0.6839 - val_accuracy: 0.6012\n",
      "Epoch 2/50\n",
      "33/33 [==============================] - 0s 10ms/step - loss: 0.6432 - accuracy: 0.6521 - val_loss: 0.5572 - val_accuracy: 0.7147\n",
      "Epoch 3/50\n",
      "33/33 [==============================] - 0s 8ms/step - loss: 0.4730 - accuracy: 0.8008 - val_loss: 0.4600 - val_accuracy: 0.7860\n",
      "Epoch 4/50\n",
      "33/33 [==============================] - 0s 10ms/step - loss: 0.3876 - accuracy: 0.8409 - val_loss: 0.3995 - val_accuracy: 0.8384\n",
      "Epoch 5/50\n",
      "33/33 [==============================] - 0s 9ms/step - loss: 0.2827 - accuracy: 0.8937 - val_loss: 0.4708 - val_accuracy: 0.8370\n",
      "Epoch 6/50\n",
      "33/33 [==============================] - 0s 9ms/step - loss: 0.2506 - accuracy: 0.9006 - val_loss: 0.4990 - val_accuracy: 0.8151\n",
      "Epoch 7/50\n",
      "33/33 [==============================] - 0s 9ms/step - loss: 0.1776 - accuracy: 0.9412 - val_loss: 0.4513 - val_accuracy: 0.8399\n",
      "Epoch 8/50\n",
      "33/33 [==============================] - 0s 8ms/step - loss: 0.1549 - accuracy: 0.9600 - val_loss: 0.4795 - val_accuracy: 0.8297\n",
      "Epoch 9/50\n",
      "33/33 [==============================] - 0s 8ms/step - loss: 0.1052 - accuracy: 0.9740 - val_loss: 0.5078 - val_accuracy: 0.8370\n",
      "Epoch 10/50\n",
      "33/33 [==============================] - 0s 8ms/step - loss: 0.1039 - accuracy: 0.9764 - val_loss: 0.6854 - val_accuracy: 0.8239\n",
      "Epoch 11/50\n",
      "33/33 [==============================] - 0s 9ms/step - loss: 0.1469 - accuracy: 0.9567 - val_loss: 0.5435 - val_accuracy: 0.8253\n",
      "Epoch 12/50\n",
      "33/33 [==============================] - 0s 8ms/step - loss: 0.0741 - accuracy: 0.9840 - val_loss: 0.5543 - val_accuracy: 0.8253\n",
      "Epoch 13/50\n",
      "33/33 [==============================] - 0s 8ms/step - loss: 0.0548 - accuracy: 0.9889 - val_loss: 0.6475 - val_accuracy: 0.8326\n",
      "Epoch 14/50\n",
      "33/33 [==============================] - 0s 8ms/step - loss: 0.0493 - accuracy: 0.9908 - val_loss: 0.6853 - val_accuracy: 0.8210\n",
      "Epoch 15/50\n",
      "33/33 [==============================] - 0s 9ms/step - loss: 0.0522 - accuracy: 0.9902 - val_loss: 0.6794 - val_accuracy: 0.8253\n",
      "Epoch 16/50\n",
      "33/33 [==============================] - 0s 9ms/step - loss: 0.0394 - accuracy: 0.9916 - val_loss: 0.6648 - val_accuracy: 0.8326\n",
      "Epoch 17/50\n",
      "33/33 [==============================] - 0s 9ms/step - loss: 0.0413 - accuracy: 0.9920 - val_loss: 0.7091 - val_accuracy: 0.8151\n",
      "Epoch 18/50\n",
      "33/33 [==============================] - 0s 10ms/step - loss: 0.0325 - accuracy: 0.9944 - val_loss: 0.7990 - val_accuracy: 0.8137\n",
      "Epoch 19/50\n",
      "33/33 [==============================] - 0s 8ms/step - loss: 0.0358 - accuracy: 0.9927 - val_loss: 0.7348 - val_accuracy: 0.8210\n",
      "Epoch 20/50\n",
      "33/33 [==============================] - 0s 9ms/step - loss: 0.0321 - accuracy: 0.9947 - val_loss: 0.7024 - val_accuracy: 0.8253\n",
      "Epoch 21/50\n",
      "33/33 [==============================] - 0s 9ms/step - loss: 0.0323 - accuracy: 0.9934 - val_loss: 0.7227 - val_accuracy: 0.8210\n",
      "Epoch 22/50\n",
      "33/33 [==============================] - 0s 9ms/step - loss: 0.0604 - accuracy: 0.9841 - val_loss: 0.7609 - val_accuracy: 0.8064\n",
      "Epoch 23/50\n",
      "33/33 [==============================] - 0s 10ms/step - loss: 0.0591 - accuracy: 0.9846 - val_loss: 0.7198 - val_accuracy: 0.8093\n",
      "Epoch 24/50\n",
      "33/33 [==============================] - 0s 8ms/step - loss: 0.0475 - accuracy: 0.9895 - val_loss: 0.7695 - val_accuracy: 0.8108\n",
      "Epoch 25/50\n",
      "33/33 [==============================] - 0s 9ms/step - loss: 0.0472 - accuracy: 0.9906 - val_loss: 0.8034 - val_accuracy: 0.8006\n",
      "Epoch 26/50\n",
      "33/33 [==============================] - 0s 8ms/step - loss: 0.0209 - accuracy: 0.9976 - val_loss: 0.8711 - val_accuracy: 0.8079\n",
      "Epoch 27/50\n",
      "33/33 [==============================] - 0s 9ms/step - loss: 0.0308 - accuracy: 0.9952 - val_loss: 0.8589 - val_accuracy: 0.8020\n",
      "Epoch 28/50\n",
      "33/33 [==============================] - 0s 9ms/step - loss: 0.0208 - accuracy: 0.9970 - val_loss: 0.8815 - val_accuracy: 0.8006\n",
      "Epoch 29/50\n",
      "33/33 [==============================] - 0s 9ms/step - loss: 0.0231 - accuracy: 0.9966 - val_loss: 0.8407 - val_accuracy: 0.8035\n",
      "Epoch 30/50\n",
      "33/33 [==============================] - 0s 9ms/step - loss: 0.0105 - accuracy: 0.9988 - val_loss: 0.8800 - val_accuracy: 0.8035\n",
      "Epoch 31/50\n",
      "33/33 [==============================] - 0s 8ms/step - loss: 0.0133 - accuracy: 0.9983 - val_loss: 0.9092 - val_accuracy: 0.8064\n",
      "Epoch 32/50\n",
      "33/33 [==============================] - 0s 9ms/step - loss: 0.0170 - accuracy: 0.9977 - val_loss: 0.9526 - val_accuracy: 0.8064\n",
      "Epoch 33/50\n",
      "33/33 [==============================] - 0s 8ms/step - loss: 0.0161 - accuracy: 0.9977 - val_loss: 0.9677 - val_accuracy: 0.8049\n",
      "Epoch 34/50\n",
      "33/33 [==============================] - 0s 8ms/step - loss: 0.0164 - accuracy: 0.9976 - val_loss: 0.9908 - val_accuracy: 0.8093\n",
      "Epoch 35/50\n",
      "33/33 [==============================] - 0s 9ms/step - loss: 0.0113 - accuracy: 0.9985 - val_loss: 1.0087 - val_accuracy: 0.8093\n",
      "Epoch 36/50\n",
      "33/33 [==============================] - 0s 9ms/step - loss: 0.0129 - accuracy: 0.9982 - val_loss: 0.9969 - val_accuracy: 0.8122\n",
      "Epoch 37/50\n",
      "33/33 [==============================] - 0s 9ms/step - loss: 0.0141 - accuracy: 0.9980 - val_loss: 1.0091 - val_accuracy: 0.8093\n",
      "Epoch 38/50\n",
      "33/33 [==============================] - 0s 9ms/step - loss: 0.0302 - accuracy: 0.9955 - val_loss: 1.0185 - val_accuracy: 0.8108\n",
      "Epoch 39/50\n",
      "33/33 [==============================] - 0s 9ms/step - loss: 0.0142 - accuracy: 0.9980 - val_loss: 1.0293 - val_accuracy: 0.8108\n",
      "Epoch 40/50\n",
      "33/33 [==============================] - 0s 8ms/step - loss: 0.0182 - accuracy: 0.9972 - val_loss: 1.0470 - val_accuracy: 0.8108\n",
      "Epoch 41/50\n",
      "33/33 [==============================] - 0s 9ms/step - loss: 0.0105 - accuracy: 0.9986 - val_loss: 1.0347 - val_accuracy: 0.8108\n",
      "Epoch 42/50\n",
      "33/33 [==============================] - 0s 10ms/step - loss: 0.0135 - accuracy: 0.9981 - val_loss: 1.0310 - val_accuracy: 0.8108\n",
      "Epoch 43/50\n",
      "33/33 [==============================] - 0s 9ms/step - loss: 0.0220 - accuracy: 0.9967 - val_loss: 1.0287 - val_accuracy: 0.8093\n",
      "Epoch 44/50\n",
      "33/33 [==============================] - 0s 8ms/step - loss: 0.0238 - accuracy: 0.9964 - val_loss: 1.0468 - val_accuracy: 0.8093\n",
      "Epoch 45/50\n",
      "33/33 [==============================] - 0s 9ms/step - loss: 0.0128 - accuracy: 0.9982 - val_loss: 1.0440 - val_accuracy: 0.8093\n",
      "Epoch 46/50\n",
      "33/33 [==============================] - 0s 9ms/step - loss: 0.0081 - accuracy: 0.9990 - val_loss: 1.0631 - val_accuracy: 0.8093\n",
      "Epoch 47/50\n",
      "33/33 [==============================] - 0s 9ms/step - loss: 0.0188 - accuracy: 0.9974 - val_loss: 1.0556 - val_accuracy: 0.8079\n",
      "Epoch 48/50\n",
      "33/33 [==============================] - 0s 9ms/step - loss: 0.0215 - accuracy: 0.9967 - val_loss: 1.0424 - val_accuracy: 0.8079\n",
      "Epoch 49/50\n",
      "33/33 [==============================] - 0s 9ms/step - loss: 0.0194 - accuracy: 0.9970 - val_loss: 1.0682 - val_accuracy: 0.8093\n",
      "Epoch 50/50\n",
      "33/33 [==============================] - 0s 9ms/step - loss: 0.0221 - accuracy: 0.9966 - val_loss: 1.0640 - val_accuracy: 0.8079\n"
     ]
    }
   ],
   "source": [
    "model = Sequential()\n",
    "model.add(layers.Embedding(vocab_size, embedding_dim, \n",
    "                           weights=[embedding_matrix], \n",
    "                           input_length=maxlen, \n",
    "                           #maxlen\n",
    "                           trainable=True))\n",
    "model.add(LSTM(64, return_sequences=False))\n",
    "model.add(layers.Dense(10, activation='relu'))\n",
    "model.add(layers.Dense(1, activation='sigmoid'))\n",
    "\n",
    "opt = Adam(lr=0.001)\n",
    "model.compile(optimizer=opt,\n",
    "              loss='binary_crossentropy',\n",
    "              metrics=['accuracy'])\n",
    "model.summary()\n",
    "history = model.fit(X_train, y_train,\n",
    "                    epochs=50,\n",
    "                    validation_data=(X_test, y_test),\n",
    "                    batch_size=64)"
   ]
  },
  {
   "cell_type": "code",
   "execution_count": 65,
   "metadata": {},
   "outputs": [
    {
     "name": "stdout",
     "output_type": "stream",
     "text": [
      "Training Accuracy: 0.9976\n",
      "Testing Accuracy:  0.8079\n"
     ]
    },
    {
     "data": {
      "image/png": "[encoded data removed]",
      "text/plain": [
       "<Figure size 864x360 with 2 Axes>"
      ]
     },
     "metadata": {},
     "output_type": "display_data"
    }
   ],
   "source": [
    "loss, accuracy = model.evaluate(X_train, y_train, verbose=False)\n",
    "print(\"Training Accuracy: {:.4f}\".format(accuracy))\n",
    "loss, accuracy = model.evaluate(X_test, y_test, verbose=False)\n",
    "print(\"Testing Accuracy:  {:.4f}\".format(accuracy))\n",
    "plot_history(history)"
   ]
  }
 ],
 "metadata": {
  "kernelspec": {
   "display_name": "Python 3",
   "language": "python",
   "name": "python3"
  },
  "language_info": {
   "codemirror_mode": {
    "name": "ipython",
    "version": 3
   },
   "file_extension": ".py",
   "mimetype": "text/x-python",
   "name": "python",
   "nbconvert_exporter": "python",
   "pygments_lexer": "ipython3",
   "version": "3.8.5"
  }
 },
 "nbformat": 4,
 "nbformat_minor": 4
}
