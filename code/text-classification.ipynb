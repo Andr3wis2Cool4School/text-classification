{
 "cells": [
  {
   "cell_type": "code",
   "execution_count": 3,
   "metadata": {},
   "outputs": [],
   "source": [
    "import numpy as np\n",
    "import pandas as pd\n",
    "from sklearn.feature_extraction.text import CountVectorizer\n",
    "from sklearn.model_selection import train_test_split\n",
    "from sklearn.linear_model import LogisticRegression"
   ]
  },
  {
   "cell_type": "code",
   "execution_count": 4,
   "metadata": {},
   "outputs": [],
   "source": [
    "filepath_dict = {'yelp': '../data/yelp_labelled.txt',\n",
    "                         'amazon': '../data/amazon_cells_labelled.txt',\n",
    "                         'imdb': '../data/imdb_labelled.txt'}"
   ]
  },
  {
   "cell_type": "code",
   "execution_count": 5,
   "metadata": {},
   "outputs": [],
   "source": [
    "df_list = []\n",
    "for source, filepath in filepath_dict.items():\n",
    "    df = pd.read_csv(filepath, names=['sentence', 'label'], sep='\\t')\n",
    "    df['source'] = source\n",
    "    df_list.append(df)\n",
    "    \n",
    "df=pd.concat(df_list)"
   ]
  },
  {
   "cell_type": "code",
   "execution_count": 6,
   "metadata": {},
   "outputs": [
    {
     "data": {
      "text/html": [
       "<div>\n",
       "<style scoped>\n",
       "    .dataframe tbody tr th:only-of-type {\n",
       "        vertical-align: middle;\n",
       "    }\n",
       "\n",
       "    .dataframe tbody tr th {\n",
       "        vertical-align: top;\n",
       "    }\n",
       "\n",
       "    .dataframe thead th {\n",
       "        text-align: right;\n",
       "    }\n",
       "</style>\n",
       "<table border=\"1\" class=\"dataframe\">\n",
       "  <thead>\n",
       "    <tr style=\"text-align: right;\">\n",
       "      <th></th>\n",
       "      <th>sentence</th>\n",
       "      <th>label</th>\n",
       "      <th>source</th>\n",
       "    </tr>\n",
       "  </thead>\n",
       "  <tbody>\n",
       "    <tr>\n",
       "      <th>0</th>\n",
       "      <td>Wow... Loved this place.</td>\n",
       "      <td>1</td>\n",
       "      <td>yelp</td>\n",
       "    </tr>\n",
       "    <tr>\n",
       "      <th>1</th>\n",
       "      <td>Crust is not good.</td>\n",
       "      <td>0</td>\n",
       "      <td>yelp</td>\n",
       "    </tr>\n",
       "    <tr>\n",
       "      <th>2</th>\n",
       "      <td>Not tasty and the texture was just nasty.</td>\n",
       "      <td>0</td>\n",
       "      <td>yelp</td>\n",
       "    </tr>\n",
       "    <tr>\n",
       "      <th>3</th>\n",
       "      <td>Stopped by during the late May bank holiday of...</td>\n",
       "      <td>1</td>\n",
       "      <td>yelp</td>\n",
       "    </tr>\n",
       "    <tr>\n",
       "      <th>4</th>\n",
       "      <td>The selection on the menu was great and so wer...</td>\n",
       "      <td>1</td>\n",
       "      <td>yelp</td>\n",
       "    </tr>\n",
       "    <tr>\n",
       "      <th>...</th>\n",
       "      <td>...</td>\n",
       "      <td>...</td>\n",
       "      <td>...</td>\n",
       "    </tr>\n",
       "    <tr>\n",
       "      <th>743</th>\n",
       "      <td>I just got bored watching Jessice Lange take h...</td>\n",
       "      <td>0</td>\n",
       "      <td>imdb</td>\n",
       "    </tr>\n",
       "    <tr>\n",
       "      <th>744</th>\n",
       "      <td>Unfortunately, any virtue in this film's produ...</td>\n",
       "      <td>0</td>\n",
       "      <td>imdb</td>\n",
       "    </tr>\n",
       "    <tr>\n",
       "      <th>745</th>\n",
       "      <td>In a word, it is embarrassing.</td>\n",
       "      <td>0</td>\n",
       "      <td>imdb</td>\n",
       "    </tr>\n",
       "    <tr>\n",
       "      <th>746</th>\n",
       "      <td>Exceptionally bad!</td>\n",
       "      <td>0</td>\n",
       "      <td>imdb</td>\n",
       "    </tr>\n",
       "    <tr>\n",
       "      <th>747</th>\n",
       "      <td>All in all its an insult to one's intelligence...</td>\n",
       "      <td>0</td>\n",
       "      <td>imdb</td>\n",
       "    </tr>\n",
       "  </tbody>\n",
       "</table>\n",
       "<p>2748 rows × 3 columns</p>\n",
       "</div>"
      ],
      "text/plain": [
       "                                              sentence  label source\n",
       "0                             Wow... Loved this place.      1   yelp\n",
       "1                                   Crust is not good.      0   yelp\n",
       "2            Not tasty and the texture was just nasty.      0   yelp\n",
       "3    Stopped by during the late May bank holiday of...      1   yelp\n",
       "4    The selection on the menu was great and so wer...      1   yelp\n",
       "..                                                 ...    ...    ...\n",
       "743  I just got bored watching Jessice Lange take h...      0   imdb\n",
       "744  Unfortunately, any virtue in this film's produ...      0   imdb\n",
       "745                   In a word, it is embarrassing.        0   imdb\n",
       "746                               Exceptionally bad!        0   imdb\n",
       "747  All in all its an insult to one's intelligence...      0   imdb\n",
       "\n",
       "[2748 rows x 3 columns]"
      ]
     },
     "execution_count": 6,
     "metadata": {},
     "output_type": "execute_result"
    }
   ],
   "source": [
    "df"
   ]
  },
  {
   "cell_type": "markdown",
   "metadata": {},
   "source": [
    "### ex the text features"
   ]
  },
  {
   "cell_type": "code",
   "execution_count": 7,
   "metadata": {},
   "outputs": [],
   "source": [
    "#eg:\n",
    "sentences = ['Join likes ice cream', 'John hates chocolate']"
   ]
  },
  {
   "cell_type": "code",
   "execution_count": 8,
   "metadata": {},
   "outputs": [
    {
     "name": "stdout",
     "output_type": "stream",
     "text": [
      "{'join': 5, 'likes': 6, 'ice': 3, 'cream': 1, 'john': 4, 'hates': 2, 'chocolate': 0}\n",
      "[[0 1 0 1 0 1 1]\n",
      " [1 0 1 0 1 0 0]]\n"
     ]
    }
   ],
   "source": [
    "vectorizer = CountVectorizer(min_df=0, lowercase=True)\n",
    "vectorizer.fit(sentences)\n",
    "print(vectorizer.vocabulary_)\n",
    "print(vectorizer.transform(sentences).toarray())"
   ]
  },
  {
   "cell_type": "code",
   "execution_count": 9,
   "metadata": {},
   "outputs": [],
   "source": [
    "#  split the dataset \n",
    "df_yelp = df[df['source'] == 'yelp']\n",
    "sentences = df_yelp['sentence'].values\n",
    "y = df_yelp['label'].values\n",
    "sentences_train, sentences_test, y_train, y_test = train_test_split(sentences, y, test_size=0.25, random_state=1000)\n",
    "# print(sentences_train)\n",
    "# print(sentences_test)\n",
    "# print(y_train)\n",
    "# print(y_test)"
   ]
  },
  {
   "cell_type": "code",
   "execution_count": 10,
   "metadata": {},
   "outputs": [],
   "source": [
    "vectorizer = CountVectorizer()\n",
    "vectorizer.fit(sentences_train)\n",
    "X_train = vectorizer.transform(sentences_train)\n",
    "X_test = vectorizer.transform(sentences_test)"
   ]
  },
  {
   "cell_type": "code",
   "execution_count": 11,
   "metadata": {},
   "outputs": [
    {
     "data": {
      "text/plain": [
       "(750, 1714)"
      ]
     },
     "execution_count": 11,
     "metadata": {},
     "output_type": "execute_result"
    }
   ],
   "source": [
    "X_train.shape"
   ]
  },
  {
   "cell_type": "code",
   "execution_count": 12,
   "metadata": {},
   "outputs": [
    {
     "data": {
      "text/plain": [
       "(250, 1714)"
      ]
     },
     "execution_count": 12,
     "metadata": {},
     "output_type": "execute_result"
    }
   ],
   "source": [
    "X_test.shape"
   ]
  },
  {
   "cell_type": "code",
   "execution_count": 13,
   "metadata": {},
   "outputs": [
    {
     "data": {
      "text/plain": [
       "array([[0, 0, 0, ..., 0, 0, 0]], dtype=int64)"
      ]
     },
     "execution_count": 13,
     "metadata": {},
     "output_type": "execute_result"
    }
   ],
   "source": [
    "X_train[0].toarray()"
   ]
  },
  {
   "cell_type": "markdown",
   "metadata": {},
   "source": [
    "First use some logisticRegression for a try"
   ]
  },
  {
   "cell_type": "code",
   "execution_count": 14,
   "metadata": {},
   "outputs": [
    {
     "data": {
      "text/plain": [
       "0.796"
      ]
     },
     "execution_count": 14,
     "metadata": {},
     "output_type": "execute_result"
    }
   ],
   "source": [
    "classifier = LogisticRegression()\n",
    "classifier.fit(X_train, y_train)\n",
    "score = classifier.score(X_test, y_test)\n",
    "score"
   ]
  },
  {
   "cell_type": "markdown",
   "metadata": {},
   "source": [
    "Compare three different datasets"
   ]
  },
  {
   "cell_type": "code",
   "execution_count": 15,
   "metadata": {},
   "outputs": [],
   "source": [
    "class Dataprocess():\n",
    "    def __init__(self, data, source):\n",
    "        self.df = data[data['source'] == source]\n",
    "        self.sentences = self.df['sentence'].values\n",
    "        self.y = self.df['label'].values\n",
    "        \n",
    "    def train_test_data_split(self):\n",
    "        sentences_train, sentences_test, y_train, y_test = train_test_split(self.sentences, \n",
    "                                                                                                                 self.y, \n",
    "                                                                                                                 test_size=0.25, \n",
    "                                                                                                                 random_state=1000)\n",
    "        return sentences_train, sentences_test, y_train, y_test      "
   ]
  },
  {
   "cell_type": "code",
   "execution_count": 16,
   "metadata": {},
   "outputs": [],
   "source": [
    "class CountTheVectorizer():\n",
    "    def __init__(self):\n",
    "        self.vectorizer = CountVectorizer()\n",
    "        \n",
    "    def fit_ve(self, sentences_train, sentences_test):\n",
    "        self.vectorizer.fit(sentences_train)\n",
    "        X_train = self.vectorizer.transform(sentences_train)\n",
    "        X_test = self.vectorizer.transform(sentences_test)\n",
    "    \n",
    "        return X_train, X_test"
   ]
  },
  {
   "cell_type": "code",
   "execution_count": 17,
   "metadata": {},
   "outputs": [],
   "source": [
    "class Classfier():\n",
    "    def __init__(self):\n",
    "        self.classfier = LogisticRegression()\n",
    "    \n",
    "    def fit_model(self, X_train, y_train, X_test, y_test):\n",
    "        self.classfier.fit(X_train, y_train)\n",
    "        score = self.classfier.score(X_test, y_test)\n",
    "        \n",
    "        return score"
   ]
  },
  {
   "cell_type": "code",
   "execution_count": 18,
   "metadata": {},
   "outputs": [
    {
     "name": "stdout",
     "output_type": "stream",
     "text": [
      "Accuracy for yelp data: 0.796\n",
      "Accuracy for amazon data: 0.796\n",
      "Accuracy for imdb data: 0.7486631016042781\n"
     ]
    }
   ],
   "source": [
    "def main():\n",
    "    for source in df['source'].unique():\n",
    "        data = Dataprocess(df, source)\n",
    "        \n",
    "        sentences_train, sentences_test, y_train, y_test =  data.train_test_data_split()\n",
    "        \n",
    "        vectorizer = CountTheVectorizer()\n",
    "        X_train, X_test = vectorizer.fit_ve(sentences_train, sentences_test)\n",
    "        \n",
    "        classfier = Classfier()\n",
    "        score = classfier.fit_model(X_train, y_train, X_test, y_test)\n",
    "        print('Accuracy for {} data: {}'.format(source, score))\n",
    "        \n",
    "        \n",
    "if __name__ == '__main__':\n",
    "    main()"
   ]
  },
  {
   "cell_type": "markdown",
   "metadata": {},
   "source": [
    "**Nerul network model**"
   ]
  },
  {
   "cell_type": "code",
   "execution_count": 19,
   "metadata": {},
   "outputs": [
    {
     "data": {
      "text/html": [
       "<div>\n",
       "<style scoped>\n",
       "    .dataframe tbody tr th:only-of-type {\n",
       "        vertical-align: middle;\n",
       "    }\n",
       "\n",
       "    .dataframe tbody tr th {\n",
       "        vertical-align: top;\n",
       "    }\n",
       "\n",
       "    .dataframe thead th {\n",
       "        text-align: right;\n",
       "    }\n",
       "</style>\n",
       "<table border=\"1\" class=\"dataframe\">\n",
       "  <thead>\n",
       "    <tr style=\"text-align: right;\">\n",
       "      <th></th>\n",
       "      <th>sentence</th>\n",
       "      <th>label</th>\n",
       "      <th>source</th>\n",
       "    </tr>\n",
       "  </thead>\n",
       "  <tbody>\n",
       "    <tr>\n",
       "      <th>0</th>\n",
       "      <td>Wow... Loved this place.</td>\n",
       "      <td>1</td>\n",
       "      <td>yelp</td>\n",
       "    </tr>\n",
       "    <tr>\n",
       "      <th>1</th>\n",
       "      <td>Crust is not good.</td>\n",
       "      <td>0</td>\n",
       "      <td>yelp</td>\n",
       "    </tr>\n",
       "    <tr>\n",
       "      <th>2</th>\n",
       "      <td>Not tasty and the texture was just nasty.</td>\n",
       "      <td>0</td>\n",
       "      <td>yelp</td>\n",
       "    </tr>\n",
       "    <tr>\n",
       "      <th>3</th>\n",
       "      <td>Stopped by during the late May bank holiday of...</td>\n",
       "      <td>1</td>\n",
       "      <td>yelp</td>\n",
       "    </tr>\n",
       "    <tr>\n",
       "      <th>4</th>\n",
       "      <td>The selection on the menu was great and so wer...</td>\n",
       "      <td>1</td>\n",
       "      <td>yelp</td>\n",
       "    </tr>\n",
       "    <tr>\n",
       "      <th>...</th>\n",
       "      <td>...</td>\n",
       "      <td>...</td>\n",
       "      <td>...</td>\n",
       "    </tr>\n",
       "    <tr>\n",
       "      <th>743</th>\n",
       "      <td>I just got bored watching Jessice Lange take h...</td>\n",
       "      <td>0</td>\n",
       "      <td>imdb</td>\n",
       "    </tr>\n",
       "    <tr>\n",
       "      <th>744</th>\n",
       "      <td>Unfortunately, any virtue in this film's produ...</td>\n",
       "      <td>0</td>\n",
       "      <td>imdb</td>\n",
       "    </tr>\n",
       "    <tr>\n",
       "      <th>745</th>\n",
       "      <td>In a word, it is embarrassing.</td>\n",
       "      <td>0</td>\n",
       "      <td>imdb</td>\n",
       "    </tr>\n",
       "    <tr>\n",
       "      <th>746</th>\n",
       "      <td>Exceptionally bad!</td>\n",
       "      <td>0</td>\n",
       "      <td>imdb</td>\n",
       "    </tr>\n",
       "    <tr>\n",
       "      <th>747</th>\n",
       "      <td>All in all its an insult to one's intelligence...</td>\n",
       "      <td>0</td>\n",
       "      <td>imdb</td>\n",
       "    </tr>\n",
       "  </tbody>\n",
       "</table>\n",
       "<p>2748 rows × 3 columns</p>\n",
       "</div>"
      ],
      "text/plain": [
       "                                              sentence  label source\n",
       "0                             Wow... Loved this place.      1   yelp\n",
       "1                                   Crust is not good.      0   yelp\n",
       "2            Not tasty and the texture was just nasty.      0   yelp\n",
       "3    Stopped by during the late May bank holiday of...      1   yelp\n",
       "4    The selection on the menu was great and so wer...      1   yelp\n",
       "..                                                 ...    ...    ...\n",
       "743  I just got bored watching Jessice Lange take h...      0   imdb\n",
       "744  Unfortunately, any virtue in this film's produ...      0   imdb\n",
       "745                   In a word, it is embarrassing.        0   imdb\n",
       "746                               Exceptionally bad!        0   imdb\n",
       "747  All in all its an insult to one's intelligence...      0   imdb\n",
       "\n",
       "[2748 rows x 3 columns]"
      ]
     },
     "execution_count": 19,
     "metadata": {},
     "output_type": "execute_result"
    }
   ],
   "source": [
    "df"
   ]
  },
  {
   "cell_type": "code",
   "execution_count": 21,
   "metadata": {},
   "outputs": [],
   "source": [
    "# Simple NN \n",
    "import tensorflow as tf \n",
    "from tensorflow import keras \n",
    "from tensorflow.keras.models import Sequential\n",
    "from tensorflow.keras import layers"
   ]
  },
  {
   "cell_type": "code",
   "execution_count": 26,
   "metadata": {},
   "outputs": [],
   "source": [
    "class DataLoader():\n",
    "    def __init__(self, df):\n",
    "        self.sentences = df.sentence.values\n",
    "        self.label = df.label.values\n",
    "        \n",
    "    def train_test_data_split(self):\n",
    "        sentences_train, sentences_test, y_train, y_test = train_test_split(self.sentences, self.label, test_size=0.25, random_state=1000)\n",
    "        return sentences_train, sentences_test, y_train, y_test  "
   ]
  },
  {
   "cell_type": "code",
   "execution_count": 27,
   "metadata": {},
   "outputs": [],
   "source": [
    "data = DataLoader(df)\n",
    "sentences_train, sentences_test, y_train, y_test = data.train_test_data_split()"
   ]
  },
  {
   "cell_type": "code",
   "execution_count": 30,
   "metadata": {},
   "outputs": [],
   "source": [
    "vectorizer = CountTheVectorizer()\n",
    "X_train, X_test = vectorizer.fit_ve(sentences_train, sentences_test)"
   ]
  },
  {
   "cell_type": "code",
   "execution_count": 33,
   "metadata": {},
   "outputs": [],
   "source": [
    "# convert it into np.array\n",
    "X_train = X_train.toarray()\n",
    "X_test = X_test.toarray()"
   ]
  },
  {
   "cell_type": "code",
   "execution_count": 39,
   "metadata": {},
   "outputs": [
    {
     "data": {
      "text/plain": [
       "4506"
      ]
     },
     "execution_count": 39,
     "metadata": {},
     "output_type": "execute_result"
    }
   ],
   "source": [
    "# number of features \n",
    "input_dim = X_train.shape[1]\n",
    "input_dim"
   ]
  },
  {
   "cell_type": "code",
   "execution_count": 40,
   "metadata": {},
   "outputs": [
    {
     "name": "stdout",
     "output_type": "stream",
     "text": [
      "Model: \"sequential\"\n",
      "_________________________________________________________________\n",
      "Layer (type)                 Output Shape              Param #   \n",
      "=================================================================\n",
      "dense (Dense)                (None, 64)                288448    \n",
      "_________________________________________________________________\n",
      "dense_1 (Dense)              (None, 32)                2080      \n",
      "_________________________________________________________________\n",
      "dense_2 (Dense)              (None, 1)                 33        \n",
      "=================================================================\n",
      "Total params: 290,561\n",
      "Trainable params: 290,561\n",
      "Non-trainable params: 0\n",
      "_________________________________________________________________\n"
     ]
    }
   ],
   "source": [
    "#build and compile\n",
    "model = Sequential()\n",
    "model.add(layers.Dense(64, input_dim=input_dim, activation='relu'))\n",
    "model.add(layers.Dense(32, activation='sigmoid'))\n",
    "model.add(layers.Dense(1, activation='sigmoid'))\n",
    "model.compile(loss='binary_crossentropy', optimizer='adam', metrics=['accuracy'])\n",
    "model.summary()"
   ]
  },
  {
   "cell_type": "code",
   "execution_count": 50,
   "metadata": {
    "scrolled": true
   },
   "outputs": [
    {
     "name": "stdout",
     "output_type": "stream",
     "text": [
      "Epoch 1/200\n",
      "21/21 [==============================] - 0s 8ms/step - loss: 7.7605e-07 - accuracy: 1.0000 - val_loss: 2.0580 - val_accuracy: 0.7991\n",
      "Epoch 2/200\n",
      "21/21 [==============================] - 0s 8ms/step - loss: 7.6806e-07 - accuracy: 1.0000 - val_loss: 2.0596 - val_accuracy: 0.7991\n",
      "Epoch 3/200\n",
      "21/21 [==============================] - 0s 8ms/step - loss: 7.6017e-07 - accuracy: 1.0000 - val_loss: 2.0614 - val_accuracy: 0.7991\n",
      "Epoch 4/200\n",
      "21/21 [==============================] - 0s 8ms/step - loss: 7.5233e-07 - accuracy: 1.0000 - val_loss: 2.0629 - val_accuracy: 0.7991\n",
      "Epoch 5/200\n",
      "21/21 [==============================] - 0s 8ms/step - loss: 7.4460e-07 - accuracy: 1.0000 - val_loss: 2.0645 - val_accuracy: 0.7991\n",
      "Epoch 6/200\n",
      "21/21 [==============================] - 0s 8ms/step - loss: 7.3694e-07 - accuracy: 1.0000 - val_loss: 2.0662 - val_accuracy: 0.7991\n",
      "Epoch 7/200\n",
      "21/21 [==============================] - 0s 8ms/step - loss: 7.2936e-07 - accuracy: 1.0000 - val_loss: 2.0679 - val_accuracy: 0.7991\n",
      "Epoch 8/200\n",
      "21/21 [==============================] - 0s 8ms/step - loss: 7.2184e-07 - accuracy: 1.0000 - val_loss: 2.0696 - val_accuracy: 0.7991\n",
      "Epoch 9/200\n",
      "21/21 [==============================] - 0s 8ms/step - loss: 7.1440e-07 - accuracy: 1.0000 - val_loss: 2.0712 - val_accuracy: 0.7991\n",
      "Epoch 10/200\n",
      "21/21 [==============================] - 0s 8ms/step - loss: 7.0703e-07 - accuracy: 1.0000 - val_loss: 2.0727 - val_accuracy: 0.7991\n",
      "Epoch 11/200\n",
      "21/21 [==============================] - 0s 8ms/step - loss: 6.9968e-07 - accuracy: 1.0000 - val_loss: 2.0743 - val_accuracy: 0.7991\n",
      "Epoch 12/200\n",
      "21/21 [==============================] - 0s 9ms/step - loss: 6.9247e-07 - accuracy: 1.0000 - val_loss: 2.0760 - val_accuracy: 0.7991\n",
      "Epoch 13/200\n",
      "21/21 [==============================] - 0s 8ms/step - loss: 6.8523e-07 - accuracy: 1.0000 - val_loss: 2.0778 - val_accuracy: 0.7991\n",
      "Epoch 14/200\n",
      "21/21 [==============================] - 0s 9ms/step - loss: 6.7811e-07 - accuracy: 1.0000 - val_loss: 2.0796 - val_accuracy: 0.7991\n",
      "Epoch 15/200\n",
      "21/21 [==============================] - 0s 9ms/step - loss: 6.7105e-07 - accuracy: 1.0000 - val_loss: 2.0813 - val_accuracy: 0.7991\n",
      "Epoch 16/200\n",
      "21/21 [==============================] - 0s 8ms/step - loss: 6.6411e-07 - accuracy: 1.0000 - val_loss: 2.0829 - val_accuracy: 0.7991\n",
      "Epoch 17/200\n",
      "21/21 [==============================] - 0s 11ms/step - loss: 6.5721e-07 - accuracy: 1.0000 - val_loss: 2.0844 - val_accuracy: 0.7991\n",
      "Epoch 18/200\n",
      "21/21 [==============================] - 0s 8ms/step - loss: 6.5048e-07 - accuracy: 1.0000 - val_loss: 2.0863 - val_accuracy: 0.7991\n",
      "Epoch 19/200\n",
      "21/21 [==============================] - 0s 8ms/step - loss: 6.4378e-07 - accuracy: 1.0000 - val_loss: 2.0879 - val_accuracy: 0.7991\n",
      "Epoch 20/200\n",
      "21/21 [==============================] - 0s 8ms/step - loss: 6.3721e-07 - accuracy: 1.0000 - val_loss: 2.0892 - val_accuracy: 0.7991\n",
      "Epoch 21/200\n",
      "21/21 [==============================] - 0s 9ms/step - loss: 6.3074e-07 - accuracy: 1.0000 - val_loss: 2.0913 - val_accuracy: 0.7991\n",
      "Epoch 22/200\n",
      "21/21 [==============================] - 0s 8ms/step - loss: 6.2422e-07 - accuracy: 1.0000 - val_loss: 2.0927 - val_accuracy: 0.7991\n",
      "Epoch 23/200\n",
      "21/21 [==============================] - 0s 9ms/step - loss: 6.1784e-07 - accuracy: 1.0000 - val_loss: 2.0944 - val_accuracy: 0.7991\n",
      "Epoch 24/200\n",
      "21/21 [==============================] - 0s 8ms/step - loss: 6.1148e-07 - accuracy: 1.0000 - val_loss: 2.0961 - val_accuracy: 0.7991\n",
      "Epoch 25/200\n",
      "21/21 [==============================] - 0s 8ms/step - loss: 6.0521e-07 - accuracy: 1.0000 - val_loss: 2.0977 - val_accuracy: 0.7991\n",
      "Epoch 26/200\n",
      "21/21 [==============================] - 0s 8ms/step - loss: 5.9900e-07 - accuracy: 1.0000 - val_loss: 2.0993 - val_accuracy: 0.7991\n",
      "Epoch 27/200\n",
      "21/21 [==============================] - 0s 8ms/step - loss: 5.9282e-07 - accuracy: 1.0000 - val_loss: 2.1008 - val_accuracy: 0.7991\n",
      "Epoch 28/200\n",
      "21/21 [==============================] - 0s 8ms/step - loss: 5.8671e-07 - accuracy: 1.0000 - val_loss: 2.1027 - val_accuracy: 0.7991\n",
      "Epoch 29/200\n",
      "21/21 [==============================] - 0s 8ms/step - loss: 5.8065e-07 - accuracy: 1.0000 - val_loss: 2.1042 - val_accuracy: 0.7991\n",
      "Epoch 30/200\n",
      "21/21 [==============================] - 0s 8ms/step - loss: 5.7465e-07 - accuracy: 1.0000 - val_loss: 2.1058 - val_accuracy: 0.7991\n",
      "Epoch 31/200\n",
      "21/21 [==============================] - 0s 8ms/step - loss: 5.6866e-07 - accuracy: 1.0000 - val_loss: 2.1076 - val_accuracy: 0.7991\n",
      "Epoch 32/200\n",
      "21/21 [==============================] - 0s 8ms/step - loss: 5.6278e-07 - accuracy: 1.0000 - val_loss: 2.1092 - val_accuracy: 0.7991\n",
      "Epoch 33/200\n",
      "21/21 [==============================] - 0s 9ms/step - loss: 5.5689e-07 - accuracy: 1.0000 - val_loss: 2.1109 - val_accuracy: 0.7991\n",
      "Epoch 34/200\n",
      "21/21 [==============================] - 0s 8ms/step - loss: 5.5108e-07 - accuracy: 1.0000 - val_loss: 2.1126 - val_accuracy: 0.7991\n",
      "Epoch 35/200\n",
      "21/21 [==============================] - 0s 8ms/step - loss: 5.4533e-07 - accuracy: 1.0000 - val_loss: 2.1145 - val_accuracy: 0.7991\n",
      "Epoch 36/200\n",
      "21/21 [==============================] - 0s 8ms/step - loss: 5.3973e-07 - accuracy: 1.0000 - val_loss: 2.1160 - val_accuracy: 0.7991\n",
      "Epoch 37/200\n",
      "21/21 [==============================] - 0s 8ms/step - loss: 5.3417e-07 - accuracy: 1.0000 - val_loss: 2.1175 - val_accuracy: 0.7991\n",
      "Epoch 38/200\n",
      "21/21 [==============================] - 0s 8ms/step - loss: 5.2871e-07 - accuracy: 1.0000 - val_loss: 2.1192 - val_accuracy: 0.7991\n",
      "Epoch 39/200\n",
      "21/21 [==============================] - 0s 8ms/step - loss: 5.2329e-07 - accuracy: 1.0000 - val_loss: 2.1207 - val_accuracy: 0.7991\n",
      "Epoch 40/200\n",
      "21/21 [==============================] - 0s 8ms/step - loss: 5.1796e-07 - accuracy: 1.0000 - val_loss: 2.1225 - val_accuracy: 0.7991\n",
      "Epoch 41/200\n",
      "21/21 [==============================] - 0s 8ms/step - loss: 5.1272e-07 - accuracy: 1.0000 - val_loss: 2.1237 - val_accuracy: 0.8006\n",
      "Epoch 42/200\n",
      "21/21 [==============================] - 0s 8ms/step - loss: 5.0751e-07 - accuracy: 1.0000 - val_loss: 2.1257 - val_accuracy: 0.7991\n",
      "Epoch 43/200\n",
      "21/21 [==============================] - 0s 8ms/step - loss: 5.0224e-07 - accuracy: 1.0000 - val_loss: 2.1273 - val_accuracy: 0.7991\n",
      "Epoch 44/200\n",
      "21/21 [==============================] - 0s 8ms/step - loss: 4.9711e-07 - accuracy: 1.0000 - val_loss: 2.1287 - val_accuracy: 0.8006\n",
      "Epoch 45/200\n",
      "21/21 [==============================] - 0s 8ms/step - loss: 4.9203e-07 - accuracy: 1.0000 - val_loss: 2.1303 - val_accuracy: 0.8006\n",
      "Epoch 46/200\n",
      "21/21 [==============================] - 0s 8ms/step - loss: 4.8700e-07 - accuracy: 1.0000 - val_loss: 2.1322 - val_accuracy: 0.8006\n",
      "Epoch 47/200\n",
      "21/21 [==============================] - 0s 8ms/step - loss: 4.8200e-07 - accuracy: 1.0000 - val_loss: 2.1338 - val_accuracy: 0.8006\n",
      "Epoch 48/200\n",
      "21/21 [==============================] - 0s 8ms/step - loss: 4.7702e-07 - accuracy: 1.0000 - val_loss: 2.1355 - val_accuracy: 0.8006\n",
      "Epoch 49/200\n",
      "21/21 [==============================] - 0s 8ms/step - loss: 4.7215e-07 - accuracy: 1.0000 - val_loss: 2.1370 - val_accuracy: 0.8006\n",
      "Epoch 50/200\n",
      "21/21 [==============================] - 0s 8ms/step - loss: 4.6728e-07 - accuracy: 1.0000 - val_loss: 2.1384 - val_accuracy: 0.8006\n",
      "Epoch 51/200\n",
      "21/21 [==============================] - 0s 9ms/step - loss: 4.6245e-07 - accuracy: 1.0000 - val_loss: 2.1402 - val_accuracy: 0.8006\n",
      "Epoch 52/200\n",
      "21/21 [==============================] - 0s 8ms/step - loss: 4.5769e-07 - accuracy: 1.0000 - val_loss: 2.1421 - val_accuracy: 0.8006\n",
      "Epoch 53/200\n",
      "21/21 [==============================] - 0s 8ms/step - loss: 4.5295e-07 - accuracy: 1.0000 - val_loss: 2.1435 - val_accuracy: 0.8006\n",
      "Epoch 54/200\n",
      "21/21 [==============================] - 0s 8ms/step - loss: 4.4823e-07 - accuracy: 1.0000 - val_loss: 2.1452 - val_accuracy: 0.8006\n",
      "Epoch 55/200\n",
      "21/21 [==============================] - 0s 8ms/step - loss: 4.4361e-07 - accuracy: 1.0000 - val_loss: 2.1471 - val_accuracy: 0.8006\n",
      "Epoch 56/200\n",
      "21/21 [==============================] - 0s 8ms/step - loss: 4.3895e-07 - accuracy: 1.0000 - val_loss: 2.1485 - val_accuracy: 0.8006\n",
      "Epoch 57/200\n"
     ]
    },
    {
     "name": "stdout",
     "output_type": "stream",
     "text": [
      "21/21 [==============================] - 0s 9ms/step - loss: 4.3437e-07 - accuracy: 1.0000 - val_loss: 2.1502 - val_accuracy: 0.8006\n",
      "Epoch 58/200\n",
      "21/21 [==============================] - 0s 8ms/step - loss: 4.2982e-07 - accuracy: 1.0000 - val_loss: 2.1519 - val_accuracy: 0.8006\n",
      "Epoch 59/200\n",
      "21/21 [==============================] - 0s 8ms/step - loss: 4.2531e-07 - accuracy: 1.0000 - val_loss: 2.1537 - val_accuracy: 0.8006\n",
      "Epoch 60/200\n",
      "21/21 [==============================] - 0s 8ms/step - loss: 4.2090e-07 - accuracy: 1.0000 - val_loss: 2.1552 - val_accuracy: 0.8006\n",
      "Epoch 61/200\n",
      "21/21 [==============================] - 0s 8ms/step - loss: 4.1662e-07 - accuracy: 1.0000 - val_loss: 2.1568 - val_accuracy: 0.8006\n",
      "Epoch 62/200\n",
      "21/21 [==============================] - 0s 8ms/step - loss: 4.1234e-07 - accuracy: 1.0000 - val_loss: 2.1584 - val_accuracy: 0.8006\n",
      "Epoch 63/200\n",
      "21/21 [==============================] - 0s 9ms/step - loss: 4.0814e-07 - accuracy: 1.0000 - val_loss: 2.1602 - val_accuracy: 0.8006\n",
      "Epoch 64/200\n",
      "21/21 [==============================] - 0s 8ms/step - loss: 4.0402e-07 - accuracy: 1.0000 - val_loss: 2.1616 - val_accuracy: 0.8006\n",
      "Epoch 65/200\n",
      "21/21 [==============================] - 0s 8ms/step - loss: 3.9988e-07 - accuracy: 1.0000 - val_loss: 2.1633 - val_accuracy: 0.8006\n",
      "Epoch 66/200\n",
      "21/21 [==============================] - 0s 8ms/step - loss: 3.9584e-07 - accuracy: 1.0000 - val_loss: 2.1649 - val_accuracy: 0.8006\n",
      "Epoch 67/200\n",
      "21/21 [==============================] - 0s 8ms/step - loss: 3.9180e-07 - accuracy: 1.0000 - val_loss: 2.1665 - val_accuracy: 0.8006\n",
      "Epoch 68/200\n",
      "21/21 [==============================] - 0s 9ms/step - loss: 3.8782e-07 - accuracy: 1.0000 - val_loss: 2.1681 - val_accuracy: 0.8006\n",
      "Epoch 69/200\n",
      "21/21 [==============================] - 0s 9ms/step - loss: 3.8389e-07 - accuracy: 1.0000 - val_loss: 2.1696 - val_accuracy: 0.8006\n",
      "Epoch 70/200\n",
      "21/21 [==============================] - 0s 9ms/step - loss: 3.7998e-07 - accuracy: 1.0000 - val_loss: 2.1712 - val_accuracy: 0.8006\n",
      "Epoch 71/200\n",
      "21/21 [==============================] - 0s 8ms/step - loss: 3.7611e-07 - accuracy: 1.0000 - val_loss: 2.1727 - val_accuracy: 0.8006\n",
      "Epoch 72/200\n",
      "21/21 [==============================] - 0s 9ms/step - loss: 3.7226e-07 - accuracy: 1.0000 - val_loss: 2.1744 - val_accuracy: 0.8006\n",
      "Epoch 73/200\n",
      "21/21 [==============================] - 0s 8ms/step - loss: 3.6849e-07 - accuracy: 1.0000 - val_loss: 2.1763 - val_accuracy: 0.8006\n",
      "Epoch 74/200\n",
      "21/21 [==============================] - 0s 9ms/step - loss: 3.6475e-07 - accuracy: 1.0000 - val_loss: 2.1777 - val_accuracy: 0.8006\n",
      "Epoch 75/200\n",
      "21/21 [==============================] - 0s 8ms/step - loss: 3.6099e-07 - accuracy: 1.0000 - val_loss: 2.1794 - val_accuracy: 0.8006\n",
      "Epoch 76/200\n",
      "21/21 [==============================] - 0s 8ms/step - loss: 3.5729e-07 - accuracy: 1.0000 - val_loss: 2.1809 - val_accuracy: 0.8006\n",
      "Epoch 77/200\n",
      "21/21 [==============================] - 0s 8ms/step - loss: 3.5365e-07 - accuracy: 1.0000 - val_loss: 2.1825 - val_accuracy: 0.8006\n",
      "Epoch 78/200\n",
      "21/21 [==============================] - 0s 15ms/step - loss: 3.4999e-07 - accuracy: 1.0000 - val_loss: 2.1841 - val_accuracy: 0.8006\n",
      "Epoch 79/200\n",
      "21/21 [==============================] - 0s 8ms/step - loss: 3.4641e-07 - accuracy: 1.0000 - val_loss: 2.1857 - val_accuracy: 0.8006\n",
      "Epoch 80/200\n",
      "21/21 [==============================] - 0s 8ms/step - loss: 3.4284e-07 - accuracy: 1.0000 - val_loss: 2.1875 - val_accuracy: 0.8006\n",
      "Epoch 81/200\n",
      "21/21 [==============================] - 0s 9ms/step - loss: 3.3933e-07 - accuracy: 1.0000 - val_loss: 2.1891 - val_accuracy: 0.8006\n",
      "Epoch 82/200\n",
      "21/21 [==============================] - 0s 8ms/step - loss: 3.3581e-07 - accuracy: 1.0000 - val_loss: 2.1907 - val_accuracy: 0.8006\n",
      "Epoch 83/200\n",
      "21/21 [==============================] - 0s 8ms/step - loss: 3.3235e-07 - accuracy: 1.0000 - val_loss: 2.1919 - val_accuracy: 0.8006\n",
      "Epoch 84/200\n",
      "21/21 [==============================] - 0s 9ms/step - loss: 3.2888e-07 - accuracy: 1.0000 - val_loss: 2.1939 - val_accuracy: 0.8006\n",
      "Epoch 85/200\n",
      "21/21 [==============================] - 0s 8ms/step - loss: 3.2547e-07 - accuracy: 1.0000 - val_loss: 2.1956 - val_accuracy: 0.8006\n",
      "Epoch 86/200\n",
      "21/21 [==============================] - 0s 9ms/step - loss: 3.2207e-07 - accuracy: 1.0000 - val_loss: 2.1971 - val_accuracy: 0.8006\n",
      "Epoch 87/200\n",
      "21/21 [==============================] - 0s 8ms/step - loss: 3.1871e-07 - accuracy: 1.0000 - val_loss: 2.1989 - val_accuracy: 0.8006\n",
      "Epoch 88/200\n",
      "21/21 [==============================] - 0s 8ms/step - loss: 3.1538e-07 - accuracy: 1.0000 - val_loss: 2.2004 - val_accuracy: 0.8006\n",
      "Epoch 89/200\n",
      "21/21 [==============================] - 0s 8ms/step - loss: 3.1208e-07 - accuracy: 1.0000 - val_loss: 2.2021 - val_accuracy: 0.8006\n",
      "Epoch 90/200\n",
      "21/21 [==============================] - 0s 9ms/step - loss: 3.0878e-07 - accuracy: 1.0000 - val_loss: 2.2038 - val_accuracy: 0.8006\n",
      "Epoch 91/200\n",
      "21/21 [==============================] - 0s 8ms/step - loss: 3.0551e-07 - accuracy: 1.0000 - val_loss: 2.2054 - val_accuracy: 0.8006\n",
      "Epoch 92/200\n",
      "21/21 [==============================] - 0s 8ms/step - loss: 3.0230e-07 - accuracy: 1.0000 - val_loss: 2.2071 - val_accuracy: 0.8006\n",
      "Epoch 93/200\n",
      "21/21 [==============================] - 0s 8ms/step - loss: 2.9919e-07 - accuracy: 1.0000 - val_loss: 2.2088 - val_accuracy: 0.8006\n",
      "Epoch 94/200\n",
      "21/21 [==============================] - 0s 8ms/step - loss: 2.9614e-07 - accuracy: 1.0000 - val_loss: 2.2103 - val_accuracy: 0.8006\n",
      "Epoch 95/200\n",
      "21/21 [==============================] - 0s 8ms/step - loss: 2.9313e-07 - accuracy: 1.0000 - val_loss: 2.2119 - val_accuracy: 0.8006\n",
      "Epoch 96/200\n",
      "21/21 [==============================] - 0s 8ms/step - loss: 2.9020e-07 - accuracy: 1.0000 - val_loss: 2.2136 - val_accuracy: 0.8006\n",
      "Epoch 97/200\n",
      "21/21 [==============================] - 0s 9ms/step - loss: 2.8725e-07 - accuracy: 1.0000 - val_loss: 2.2151 - val_accuracy: 0.8020\n",
      "Epoch 98/200\n",
      "21/21 [==============================] - 0s 9ms/step - loss: 2.8438e-07 - accuracy: 1.0000 - val_loss: 2.2166 - val_accuracy: 0.8006\n",
      "Epoch 99/200\n",
      "21/21 [==============================] - 0s 8ms/step - loss: 2.8154e-07 - accuracy: 1.0000 - val_loss: 2.2182 - val_accuracy: 0.8006\n",
      "Epoch 100/200\n",
      "21/21 [==============================] - ETA: 0s - loss: 2.8180e-07 - accuracy: 1.00 - 0s 8ms/step - loss: 2.7870e-07 - accuracy: 1.0000 - val_loss: 2.2197 - val_accuracy: 0.8006\n",
      "Epoch 101/200\n",
      "21/21 [==============================] - 0s 8ms/step - loss: 2.7593e-07 - accuracy: 1.0000 - val_loss: 2.2211 - val_accuracy: 0.8006\n",
      "Epoch 102/200\n",
      "21/21 [==============================] - 0s 8ms/step - loss: 2.7313e-07 - accuracy: 1.0000 - val_loss: 2.2229 - val_accuracy: 0.8020\n",
      "Epoch 103/200\n",
      "21/21 [==============================] - 0s 8ms/step - loss: 2.7040e-07 - accuracy: 1.0000 - val_loss: 2.2247 - val_accuracy: 0.8020\n",
      "Epoch 104/200\n",
      "21/21 [==============================] - 0s 8ms/step - loss: 2.6767e-07 - accuracy: 1.0000 - val_loss: 2.2261 - val_accuracy: 0.8020\n",
      "Epoch 105/200\n",
      "21/21 [==============================] - 0s 8ms/step - loss: 2.6499e-07 - accuracy: 1.0000 - val_loss: 2.2279 - val_accuracy: 0.8020\n",
      "Epoch 106/200\n",
      "21/21 [==============================] - 0s 8ms/step - loss: 2.6231e-07 - accuracy: 1.0000 - val_loss: 2.2293 - val_accuracy: 0.8020\n",
      "Epoch 107/200\n",
      "21/21 [==============================] - 0s 8ms/step - loss: 2.5966e-07 - accuracy: 1.0000 - val_loss: 2.2309 - val_accuracy: 0.8020\n",
      "Epoch 108/200\n",
      "21/21 [==============================] - 0s 8ms/step - loss: 2.5706e-07 - accuracy: 1.0000 - val_loss: 2.2322 - val_accuracy: 0.8006\n",
      "Epoch 109/200\n",
      "21/21 [==============================] - 0s 8ms/step - loss: 2.5445e-07 - accuracy: 1.0000 - val_loss: 2.2342 - val_accuracy: 0.8020\n",
      "Epoch 110/200\n",
      "21/21 [==============================] - 0s 8ms/step - loss: 2.5188e-07 - accuracy: 1.0000 - val_loss: 2.2357 - val_accuracy: 0.8020\n",
      "Epoch 111/200\n",
      "21/21 [==============================] - 0s 8ms/step - loss: 2.4935e-07 - accuracy: 1.0000 - val_loss: 2.2370 - val_accuracy: 0.8020\n",
      "Epoch 112/200\n",
      "21/21 [==============================] - 0s 8ms/step - loss: 2.4682e-07 - accuracy: 1.0000 - val_loss: 2.2386 - val_accuracy: 0.8020\n"
     ]
    },
    {
     "name": "stdout",
     "output_type": "stream",
     "text": [
      "Epoch 113/200\n",
      "21/21 [==============================] - 0s 8ms/step - loss: 2.4432e-07 - accuracy: 1.0000 - val_loss: 2.2402 - val_accuracy: 0.8020\n",
      "Epoch 114/200\n",
      "21/21 [==============================] - 0s 8ms/step - loss: 2.4183e-07 - accuracy: 1.0000 - val_loss: 2.2419 - val_accuracy: 0.8020\n",
      "Epoch 115/200\n",
      "21/21 [==============================] - 0s 8ms/step - loss: 2.3938e-07 - accuracy: 1.0000 - val_loss: 2.2436 - val_accuracy: 0.8020\n",
      "Epoch 116/200\n",
      "21/21 [==============================] - 0s 8ms/step - loss: 2.3695e-07 - accuracy: 1.0000 - val_loss: 2.2451 - val_accuracy: 0.8020\n",
      "Epoch 117/200\n",
      "21/21 [==============================] - 0s 8ms/step - loss: 2.3456e-07 - accuracy: 1.0000 - val_loss: 2.2467 - val_accuracy: 0.8020\n",
      "Epoch 118/200\n",
      "21/21 [==============================] - 0s 8ms/step - loss: 2.3216e-07 - accuracy: 1.0000 - val_loss: 2.2482 - val_accuracy: 0.8020\n",
      "Epoch 119/200\n",
      "21/21 [==============================] - 0s 8ms/step - loss: 2.2979e-07 - accuracy: 1.0000 - val_loss: 2.2499 - val_accuracy: 0.8020\n",
      "Epoch 120/200\n",
      "21/21 [==============================] - 0s 8ms/step - loss: 2.2743e-07 - accuracy: 1.0000 - val_loss: 2.2513 - val_accuracy: 0.8020\n",
      "Epoch 121/200\n",
      "21/21 [==============================] - 0s 8ms/step - loss: 2.2510e-07 - accuracy: 1.0000 - val_loss: 2.2529 - val_accuracy: 0.8020\n",
      "Epoch 122/200\n",
      "21/21 [==============================] - 0s 8ms/step - loss: 2.2278e-07 - accuracy: 1.0000 - val_loss: 2.2547 - val_accuracy: 0.8020\n",
      "Epoch 123/200\n",
      "21/21 [==============================] - 0s 8ms/step - loss: 2.2047e-07 - accuracy: 1.0000 - val_loss: 2.2562 - val_accuracy: 0.8035\n",
      "Epoch 124/200\n",
      "21/21 [==============================] - 0s 8ms/step - loss: 2.1820e-07 - accuracy: 1.0000 - val_loss: 2.2580 - val_accuracy: 0.8035\n",
      "Epoch 125/200\n",
      "21/21 [==============================] - 0s 9ms/step - loss: 2.1594e-07 - accuracy: 1.0000 - val_loss: 2.2595 - val_accuracy: 0.8035\n",
      "Epoch 126/200\n",
      "21/21 [==============================] - 0s 8ms/step - loss: 2.1371e-07 - accuracy: 1.0000 - val_loss: 2.2610 - val_accuracy: 0.8035\n",
      "Epoch 127/200\n",
      "21/21 [==============================] - 0s 8ms/step - loss: 2.1148e-07 - accuracy: 1.0000 - val_loss: 2.2628 - val_accuracy: 0.8020\n",
      "Epoch 128/200\n",
      "21/21 [==============================] - 0s 8ms/step - loss: 2.0929e-07 - accuracy: 1.0000 - val_loss: 2.2644 - val_accuracy: 0.8035\n",
      "Epoch 129/200\n",
      "21/21 [==============================] - 0s 8ms/step - loss: 2.0710e-07 - accuracy: 1.0000 - val_loss: 2.2658 - val_accuracy: 0.8035\n",
      "Epoch 130/200\n",
      "21/21 [==============================] - 0s 8ms/step - loss: 2.0494e-07 - accuracy: 1.0000 - val_loss: 2.2676 - val_accuracy: 0.8035\n",
      "Epoch 131/200\n",
      "21/21 [==============================] - 0s 8ms/step - loss: 2.0280e-07 - accuracy: 1.0000 - val_loss: 2.2692 - val_accuracy: 0.8035\n",
      "Epoch 132/200\n",
      "21/21 [==============================] - 0s 8ms/step - loss: 2.0068e-07 - accuracy: 1.0000 - val_loss: 2.2710 - val_accuracy: 0.8049\n",
      "Epoch 133/200\n",
      "21/21 [==============================] - 0s 8ms/step - loss: 1.9855e-07 - accuracy: 1.0000 - val_loss: 2.2726 - val_accuracy: 0.8049\n",
      "Epoch 134/200\n",
      "21/21 [==============================] - 0s 8ms/step - loss: 1.9646e-07 - accuracy: 1.0000 - val_loss: 2.2742 - val_accuracy: 0.8049\n",
      "Epoch 135/200\n",
      "21/21 [==============================] - 0s 8ms/step - loss: 1.9437e-07 - accuracy: 1.0000 - val_loss: 2.2760 - val_accuracy: 0.8049\n",
      "Epoch 136/200\n",
      "21/21 [==============================] - 0s 8ms/step - loss: 1.9230e-07 - accuracy: 1.0000 - val_loss: 2.2775 - val_accuracy: 0.8049\n",
      "Epoch 137/200\n",
      "21/21 [==============================] - 0s 8ms/step - loss: 1.9025e-07 - accuracy: 1.0000 - val_loss: 2.2792 - val_accuracy: 0.8049\n",
      "Epoch 138/200\n",
      "21/21 [==============================] - 0s 8ms/step - loss: 1.8821e-07 - accuracy: 1.0000 - val_loss: 2.2808 - val_accuracy: 0.8049\n",
      "Epoch 139/200\n",
      "21/21 [==============================] - 0s 8ms/step - loss: 1.8618e-07 - accuracy: 1.0000 - val_loss: 2.2826 - val_accuracy: 0.8049\n",
      "Epoch 140/200\n",
      "21/21 [==============================] - 0s 8ms/step - loss: 1.8418e-07 - accuracy: 1.0000 - val_loss: 2.2842 - val_accuracy: 0.8049\n",
      "Epoch 141/200\n",
      "21/21 [==============================] - 0s 8ms/step - loss: 1.8219e-07 - accuracy: 1.0000 - val_loss: 2.2857 - val_accuracy: 0.8049\n",
      "Epoch 142/200\n",
      "21/21 [==============================] - 0s 8ms/step - loss: 1.8027e-07 - accuracy: 1.0000 - val_loss: 2.2880 - val_accuracy: 0.8049\n",
      "Epoch 143/200\n",
      "21/21 [==============================] - 0s 8ms/step - loss: 1.7843e-07 - accuracy: 1.0000 - val_loss: 2.2895 - val_accuracy: 0.8049\n",
      "Epoch 144/200\n",
      "21/21 [==============================] - 0s 8ms/step - loss: 1.7663e-07 - accuracy: 1.0000 - val_loss: 2.2910 - val_accuracy: 0.8049\n",
      "Epoch 145/200\n",
      "21/21 [==============================] - 0s 8ms/step - loss: 1.7488e-07 - accuracy: 1.0000 - val_loss: 2.2924 - val_accuracy: 0.8049\n",
      "Epoch 146/200\n",
      "21/21 [==============================] - 0s 8ms/step - loss: 1.7315e-07 - accuracy: 1.0000 - val_loss: 2.2937 - val_accuracy: 0.8049\n",
      "Epoch 147/200\n",
      "21/21 [==============================] - 0s 8ms/step - loss: 1.7144e-07 - accuracy: 1.0000 - val_loss: 2.2954 - val_accuracy: 0.8049\n",
      "Epoch 148/200\n",
      "21/21 [==============================] - 0s 8ms/step - loss: 1.6976e-07 - accuracy: 1.0000 - val_loss: 2.2968 - val_accuracy: 0.8049\n",
      "Epoch 149/200\n",
      "21/21 [==============================] - 0s 8ms/step - loss: 1.6810e-07 - accuracy: 1.0000 - val_loss: 2.2984 - val_accuracy: 0.8049\n",
      "Epoch 150/200\n",
      "21/21 [==============================] - 0s 8ms/step - loss: 1.6646e-07 - accuracy: 1.0000 - val_loss: 2.2999 - val_accuracy: 0.8049\n",
      "Epoch 151/200\n",
      "21/21 [==============================] - 0s 8ms/step - loss: 1.6484e-07 - accuracy: 1.0000 - val_loss: 2.3014 - val_accuracy: 0.8049\n",
      "Epoch 152/200\n",
      "21/21 [==============================] - 0s 8ms/step - loss: 1.6323e-07 - accuracy: 1.0000 - val_loss: 2.3029 - val_accuracy: 0.8049\n",
      "Epoch 153/200\n",
      "21/21 [==============================] - 0s 8ms/step - loss: 1.6164e-07 - accuracy: 1.0000 - val_loss: 2.3045 - val_accuracy: 0.8049\n",
      "Epoch 154/200\n",
      "21/21 [==============================] - 0s 8ms/step - loss: 1.6007e-07 - accuracy: 1.0000 - val_loss: 2.3059 - val_accuracy: 0.8049\n",
      "Epoch 155/200\n",
      "21/21 [==============================] - 0s 8ms/step - loss: 1.5851e-07 - accuracy: 1.0000 - val_loss: 2.3074 - val_accuracy: 0.8049\n",
      "Epoch 156/200\n",
      "21/21 [==============================] - 0s 8ms/step - loss: 1.5697e-07 - accuracy: 1.0000 - val_loss: 2.3088 - val_accuracy: 0.8049\n",
      "Epoch 157/200\n",
      "21/21 [==============================] - 0s 8ms/step - loss: 1.5545e-07 - accuracy: 1.0000 - val_loss: 2.3103 - val_accuracy: 0.8049\n",
      "Epoch 158/200\n",
      "21/21 [==============================] - 0s 8ms/step - loss: 1.5394e-07 - accuracy: 1.0000 - val_loss: 2.3119 - val_accuracy: 0.8049\n",
      "Epoch 159/200\n",
      "21/21 [==============================] - 0s 8ms/step - loss: 1.5245e-07 - accuracy: 1.0000 - val_loss: 2.3138 - val_accuracy: 0.8049\n",
      "Epoch 160/200\n",
      "21/21 [==============================] - 0s 8ms/step - loss: 1.5097e-07 - accuracy: 1.0000 - val_loss: 2.3151 - val_accuracy: 0.8049\n",
      "Epoch 161/200\n",
      "21/21 [==============================] - 0s 8ms/step - loss: 1.4951e-07 - accuracy: 1.0000 - val_loss: 2.3164 - val_accuracy: 0.8049\n",
      "Epoch 162/200\n",
      "21/21 [==============================] - 0s 8ms/step - loss: 1.4807e-07 - accuracy: 1.0000 - val_loss: 2.3181 - val_accuracy: 0.8049\n",
      "Epoch 163/200\n",
      "21/21 [==============================] - 0s 8ms/step - loss: 1.4662e-07 - accuracy: 1.0000 - val_loss: 2.3195 - val_accuracy: 0.8049\n",
      "Epoch 164/200\n",
      "21/21 [==============================] - 0s 8ms/step - loss: 1.4521e-07 - accuracy: 1.0000 - val_loss: 2.3209 - val_accuracy: 0.8049\n",
      "Epoch 165/200\n",
      "21/21 [==============================] - 0s 8ms/step - loss: 1.4381e-07 - accuracy: 1.0000 - val_loss: 2.3224 - val_accuracy: 0.8049\n",
      "Epoch 166/200\n",
      "21/21 [==============================] - 0s 8ms/step - loss: 1.4242e-07 - accuracy: 1.0000 - val_loss: 2.3240 - val_accuracy: 0.8049\n",
      "Epoch 167/200\n",
      "21/21 [==============================] - 0s 8ms/step - loss: 1.4104e-07 - accuracy: 1.0000 - val_loss: 2.3254 - val_accuracy: 0.8049\n",
      "Epoch 168/200\n",
      "21/21 [==============================] - 0s 8ms/step - loss: 1.3968e-07 - accuracy: 1.0000 - val_loss: 2.3268 - val_accuracy: 0.8049\n"
     ]
    },
    {
     "name": "stdout",
     "output_type": "stream",
     "text": [
      "Epoch 169/200\n",
      "21/21 [==============================] - 0s 8ms/step - loss: 1.3833e-07 - accuracy: 1.0000 - val_loss: 2.3284 - val_accuracy: 0.8049\n",
      "Epoch 170/200\n",
      "21/21 [==============================] - 0s 8ms/step - loss: 1.3700e-07 - accuracy: 1.0000 - val_loss: 2.3296 - val_accuracy: 0.8049\n",
      "Epoch 171/200\n",
      "21/21 [==============================] - 0s 9ms/step - loss: 1.3567e-07 - accuracy: 1.0000 - val_loss: 2.3312 - val_accuracy: 0.8049\n",
      "Epoch 172/200\n",
      "21/21 [==============================] - 0s 9ms/step - loss: 1.3435e-07 - accuracy: 1.0000 - val_loss: 2.3328 - val_accuracy: 0.8049\n",
      "Epoch 173/200\n",
      "21/21 [==============================] - 0s 9ms/step - loss: 1.3303e-07 - accuracy: 1.0000 - val_loss: 2.3343 - val_accuracy: 0.8049\n",
      "Epoch 174/200\n",
      "21/21 [==============================] - 0s 9ms/step - loss: 1.3174e-07 - accuracy: 1.0000 - val_loss: 2.3357 - val_accuracy: 0.8049\n",
      "Epoch 175/200\n",
      "21/21 [==============================] - 0s 8ms/step - loss: 1.3045e-07 - accuracy: 1.0000 - val_loss: 2.3371 - val_accuracy: 0.8049\n",
      "Epoch 176/200\n",
      "21/21 [==============================] - 0s 9ms/step - loss: 1.2918e-07 - accuracy: 1.0000 - val_loss: 2.3387 - val_accuracy: 0.8049\n",
      "Epoch 177/200\n",
      "21/21 [==============================] - 0s 9ms/step - loss: 1.2792e-07 - accuracy: 1.0000 - val_loss: 2.3401 - val_accuracy: 0.8049\n",
      "Epoch 178/200\n",
      "21/21 [==============================] - 0s 8ms/step - loss: 1.2666e-07 - accuracy: 1.0000 - val_loss: 2.3417 - val_accuracy: 0.8049\n",
      "Epoch 179/200\n",
      "21/21 [==============================] - 0s 8ms/step - loss: 1.2542e-07 - accuracy: 1.0000 - val_loss: 2.3431 - val_accuracy: 0.8049\n",
      "Epoch 180/200\n",
      "21/21 [==============================] - 0s 8ms/step - loss: 1.2419e-07 - accuracy: 1.0000 - val_loss: 2.3445 - val_accuracy: 0.8049\n",
      "Epoch 181/200\n",
      "21/21 [==============================] - 0s 8ms/step - loss: 1.2296e-07 - accuracy: 1.0000 - val_loss: 2.3458 - val_accuracy: 0.8049\n",
      "Epoch 182/200\n",
      "21/21 [==============================] - 0s 8ms/step - loss: 1.2174e-07 - accuracy: 1.0000 - val_loss: 2.3474 - val_accuracy: 0.8049\n",
      "Epoch 183/200\n",
      "21/21 [==============================] - 0s 8ms/step - loss: 1.2055e-07 - accuracy: 1.0000 - val_loss: 2.3490 - val_accuracy: 0.8049\n",
      "Epoch 184/200\n",
      "21/21 [==============================] - 0s 8ms/step - loss: 1.1935e-07 - accuracy: 1.0000 - val_loss: 2.3504 - val_accuracy: 0.8049\n",
      "Epoch 185/200\n",
      "21/21 [==============================] - 0s 9ms/step - loss: 1.1816e-07 - accuracy: 1.0000 - val_loss: 2.3521 - val_accuracy: 0.8049\n",
      "Epoch 186/200\n",
      "21/21 [==============================] - 0s 8ms/step - loss: 1.1697e-07 - accuracy: 1.0000 - val_loss: 2.3536 - val_accuracy: 0.8049\n",
      "Epoch 187/200\n",
      "21/21 [==============================] - 0s 8ms/step - loss: 1.1581e-07 - accuracy: 1.0000 - val_loss: 2.3550 - val_accuracy: 0.8049\n",
      "Epoch 188/200\n",
      "21/21 [==============================] - 0s 8ms/step - loss: 1.1465e-07 - accuracy: 1.0000 - val_loss: 2.3569 - val_accuracy: 0.8049\n",
      "Epoch 189/200\n",
      "21/21 [==============================] - 0s 8ms/step - loss: 1.1349e-07 - accuracy: 1.0000 - val_loss: 2.3584 - val_accuracy: 0.8049\n",
      "Epoch 190/200\n",
      "21/21 [==============================] - 0s 8ms/step - loss: 1.1234e-07 - accuracy: 1.0000 - val_loss: 2.3597 - val_accuracy: 0.8049\n",
      "Epoch 191/200\n",
      "21/21 [==============================] - 0s 8ms/step - loss: 1.1120e-07 - accuracy: 1.0000 - val_loss: 2.3615 - val_accuracy: 0.8049\n",
      "Epoch 192/200\n",
      "21/21 [==============================] - 0s 8ms/step - loss: 1.1007e-07 - accuracy: 1.0000 - val_loss: 2.3630 - val_accuracy: 0.8049\n",
      "Epoch 193/200\n",
      "21/21 [==============================] - 0s 8ms/step - loss: 1.0895e-07 - accuracy: 1.0000 - val_loss: 2.3645 - val_accuracy: 0.8049\n",
      "Epoch 194/200\n",
      "21/21 [==============================] - 0s 8ms/step - loss: 1.0784e-07 - accuracy: 1.0000 - val_loss: 2.3662 - val_accuracy: 0.8049\n",
      "Epoch 195/200\n",
      "21/21 [==============================] - 0s 8ms/step - loss: 1.0673e-07 - accuracy: 1.0000 - val_loss: 2.3676 - val_accuracy: 0.8049\n",
      "Epoch 196/200\n",
      "21/21 [==============================] - 0s 8ms/step - loss: 1.0564e-07 - accuracy: 1.0000 - val_loss: 2.3694 - val_accuracy: 0.8049\n",
      "Epoch 197/200\n",
      "21/21 [==============================] - 0s 8ms/step - loss: 1.0455e-07 - accuracy: 1.0000 - val_loss: 2.3709 - val_accuracy: 0.8049\n",
      "Epoch 198/200\n",
      "21/21 [==============================] - 0s 8ms/step - loss: 1.0347e-07 - accuracy: 1.0000 - val_loss: 2.3723 - val_accuracy: 0.8049\n",
      "Epoch 199/200\n",
      "21/21 [==============================] - 0s 14ms/step - loss: 1.0239e-07 - accuracy: 1.0000 - val_loss: 2.3740 - val_accuracy: 0.8049\n",
      "Epoch 200/200\n",
      "21/21 [==============================] - 0s 8ms/step - loss: 1.0133e-07 - accuracy: 1.0000 - val_loss: 2.3758 - val_accuracy: 0.8049\n"
     ]
    }
   ],
   "source": [
    "history = model.fit(X_train, y_train,\n",
    "                             epochs=200,\n",
    "                             validation_data=(X_test, y_test),\n",
    "                             batch_size = 100)"
   ]
  },
  {
   "cell_type": "code",
   "execution_count": 51,
   "metadata": {},
   "outputs": [
    {
     "name": "stdout",
     "output_type": "stream",
     "text": [
      "65/65 [==============================] - 0s 2ms/step - loss: 1.0075e-07 - accuracy: 1.0000\n",
      "loss: 1.0074977296881116e-07, accuracy: 1.0\n"
     ]
    }
   ],
   "source": [
    "loss, accuracy = model.evaluate(X_train, y_train)\n",
    "print('loss: {}, accuracy: {}'.format(loss, accuracy))"
   ]
  },
  {
   "cell_type": "code",
   "execution_count": 52,
   "metadata": {},
   "outputs": [
    {
     "name": "stdout",
     "output_type": "stream",
     "text": [
      "22/22 [==============================] - 0s 2ms/step - loss: 2.3757 - accuracy: 0.8049\n",
      "loss: 2.3757476806640625, accuracy: 0.8049490451812744\n"
     ]
    }
   ],
   "source": [
    "loss, accuracy = model.evaluate(X_test, y_test)\n",
    "print('loss: {}, accuracy: {}'.format(loss, accuracy))"
   ]
  },
  {
   "cell_type": "markdown",
   "metadata": {},
   "source": [
    "**Plot**"
   ]
  },
  {
   "cell_type": "code",
   "execution_count": 48,
   "metadata": {},
   "outputs": [],
   "source": [
    "import matplotlib.pyplot as plt \n",
    "plt.style.use('ggplot')"
   ]
  },
  {
   "cell_type": "code",
   "execution_count": 62,
   "metadata": {},
   "outputs": [],
   "source": [
    "def plot_history(history):\n",
    "    acc = history.history['accuracy']\n",
    "    val_acc = history.history['val_accuracy']\n",
    "    loss = history.history['loss']\n",
    "    val_loss = history.history['val_loss']\n",
    "    \n",
    "    x = range(1, len(acc) + 1) #200 1--200\n",
    "    plt.figure(figsize=(12,5))\n",
    "    plt.subplot(1, 2, 1)\n",
    "    plt.plot(x, acc, 'b', label='Training acc')\n",
    "    plt.plot(x, val_acc, 'r', label='Validation acc')\n",
    "    plt.title('Training and Validation accuracy')\n",
    "    plt.legend()\n",
    "    plt.subplot(1, 2, 2)\n",
    "    plt.plot(x, loss, 'b', label='Training Loss')\n",
    "    plt.plot(x, val_loss, 'r', label='Validation Loss')\n",
    "    plt.title('Training and Validation Loss')\n",
    "    plt.legend()\n",
    "    plt.show()"
   ]
  },
  {
   "cell_type": "code",
   "execution_count": 63,
   "metadata": {},
   "outputs": [
    {
     "data": {
      "image/png": "[encoded data removed]",
      "text/plain": [
       "<Figure size 864x360 with 2 Axes>"
      ]
     },
     "metadata": {},
     "output_type": "display_data"
    }
   ],
   "source": [
    "plot_history(history)"
   ]
  },
  {
   "cell_type": "code",
   "execution_count": null,
   "metadata": {},
   "outputs": [],
   "source": []
  }
 ],
 "metadata": {
  "kernelspec": {
   "display_name": "Python 3",
   "language": "python",
   "name": "python3"
  },
  "language_info": {
   "codemirror_mode": {
    "name": "ipython",
    "version": 3
   },
   "file_extension": ".py",
   "mimetype": "text/x-python",
   "name": "python",
   "nbconvert_exporter": "python",
   "pygments_lexer": "ipython3",
   "version": "3.8.5"
  }
 },
 "nbformat": 4,
 "nbformat_minor": 4
}
